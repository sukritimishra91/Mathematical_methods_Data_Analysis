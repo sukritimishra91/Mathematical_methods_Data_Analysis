{
 "cells": [
  {
   "cell_type": "markdown",
   "metadata": {},
   "source": [
    "### Load required libraries"
   ]
  },
  {
   "cell_type": "code",
   "execution_count": 1,
   "metadata": {},
   "outputs": [],
   "source": [
    "import numpy as np\n",
    "import scipy.linalg"
   ]
  },
  {
   "cell_type": "markdown",
   "metadata": {},
   "source": [
    "### Create Hilbert matrix using formula"
   ]
  },
  {
   "cell_type": "code",
   "execution_count": 4,
   "metadata": {},
   "outputs": [],
   "source": [
    "hilbert_matrix=np.array([[(1/(i+j+1)) for i in range(7)] for j in range(7)])"
   ]
  },
  {
   "cell_type": "code",
   "execution_count": 9,
   "metadata": {},
   "outputs": [
    {
     "name": "stdout",
     "output_type": "stream",
     "text": [
      "Hilbert Matrix:\n",
      " [[1.         0.5        0.33333333 0.25       0.2        0.16666667\n",
      "  0.14285714]\n",
      " [0.5        0.33333333 0.25       0.2        0.16666667 0.14285714\n",
      "  0.125     ]\n",
      " [0.33333333 0.25       0.2        0.16666667 0.14285714 0.125\n",
      "  0.11111111]\n",
      " [0.25       0.2        0.16666667 0.14285714 0.125      0.11111111\n",
      "  0.1       ]\n",
      " [0.2        0.16666667 0.14285714 0.125      0.11111111 0.1\n",
      "  0.09090909]\n",
      " [0.16666667 0.14285714 0.125      0.11111111 0.1        0.09090909\n",
      "  0.08333333]\n",
      " [0.14285714 0.125      0.11111111 0.1        0.09090909 0.08333333\n",
      "  0.07692308]]\n"
     ]
    }
   ],
   "source": [
    "print(f'Hilbert Matrix:\\n {hilbert_matrix}')\n"
   ]
  },
  {
   "cell_type": "markdown",
   "metadata": {},
   "source": [
    "### Hilbert matrix using scipy.linalg"
   ]
  },
  {
   "cell_type": "code",
   "execution_count": 2,
   "metadata": {},
   "outputs": [],
   "source": [
    "hilbert_matrix_scipy=scipy.linalg.hilbert(7)"
   ]
  },
  {
   "cell_type": "code",
   "execution_count": 72,
   "metadata": {},
   "outputs": [
    {
     "name": "stdout",
     "output_type": "stream",
     "text": [
      "[[1.         0.5        0.33333333 0.25       0.2        0.16666667\n",
      "  0.14285714]\n",
      " [0.5        0.33333333 0.25       0.2        0.16666667 0.14285714\n",
      "  0.125     ]\n",
      " [0.33333333 0.25       0.2        0.16666667 0.14285714 0.125\n",
      "  0.11111111]\n",
      " [0.25       0.2        0.16666667 0.14285714 0.125      0.11111111\n",
      "  0.1       ]\n",
      " [0.2        0.16666667 0.14285714 0.125      0.11111111 0.1\n",
      "  0.09090909]\n",
      " [0.16666667 0.14285714 0.125      0.11111111 0.1        0.09090909\n",
      "  0.08333333]\n",
      " [0.14285714 0.125      0.11111111 0.1        0.09090909 0.08333333\n",
      "  0.07692308]]\n"
     ]
    }
   ],
   "source": [
    "print(hilbert_matrix_scipy)"
   ]
  },
  {
   "cell_type": "markdown",
   "metadata": {},
   "source": [
    "### Create unit vectors "
   ]
  },
  {
   "cell_type": "code",
   "execution_count": 12,
   "metadata": {},
   "outputs": [],
   "source": [
    "unit_vectors=[[1 if i==j else 0 for i in range(7)] for j in range(7)]"
   ]
  },
  {
   "cell_type": "code",
   "execution_count": 13,
   "metadata": {},
   "outputs": [
    {
     "name": "stdout",
     "output_type": "stream",
     "text": [
      "[[1 0 0 0 0 0 0]\n",
      " [0 1 0 0 0 0 0]\n",
      " [0 0 1 0 0 0 0]\n",
      " [0 0 0 1 0 0 0]\n",
      " [0 0 0 0 1 0 0]\n",
      " [0 0 0 0 0 1 0]\n",
      " [0 0 0 0 0 0 1]]\n"
     ]
    }
   ],
   "source": [
    "print(np.array(unit_vectors))"
   ]
  },
  {
   "cell_type": "markdown",
   "metadata": {},
   "source": [
    "### Compute inverse hilbert matrix using the unit vectors"
   ]
  },
  {
   "cell_type": "code",
   "execution_count": 14,
   "metadata": {},
   "outputs": [],
   "source": [
    "hilbert_matrix_inv=np.array([np.linalg.solve(hilbert_matrix,i) for i in unit_vectors]).T"
   ]
  },
  {
   "cell_type": "code",
   "execution_count": 15,
   "metadata": {},
   "outputs": [
    {
     "name": "stdout",
     "output_type": "stream",
     "text": [
      "Inverse hilbert matrix:\n",
      " [[ 4.90000000e+01 -1.17600000e+03  8.82000001e+03 -2.94000000e+04\n",
      "   4.85100000e+04 -3.88080000e+04  1.20120000e+04]\n",
      " [-1.17600000e+03  3.76320000e+04 -3.17520000e+05  1.12896000e+06\n",
      "  -1.94040000e+06  1.59667200e+06 -5.04504000e+05]\n",
      " [ 8.82000001e+03 -3.17520000e+05  2.85768000e+06 -1.05840000e+07\n",
      "   1.87110000e+07 -1.57172400e+07  5.04504000e+06]\n",
      " [-2.94000000e+04  1.12896000e+06 -1.05840000e+07  4.03200000e+07\n",
      "  -7.27650001e+07  6.20928000e+07 -2.01801600e+07]\n",
      " [ 4.85100000e+04 -1.94040000e+06  1.87110000e+07 -7.27650001e+07\n",
      "   1.33402500e+08 -1.15259760e+08  3.78378000e+07]\n",
      " [-3.88080000e+04  1.59667200e+06 -1.57172400e+07  6.20928000e+07\n",
      "  -1.15259760e+08  1.00590336e+08 -3.32972640e+07]\n",
      " [ 1.20120000e+04 -5.04504000e+05  5.04504000e+06 -2.01801600e+07\n",
      "   3.78378000e+07 -3.32972640e+07  1.10990880e+07]]\n"
     ]
    }
   ],
   "source": [
    "print(f'Inverse hilbert matrix:\\n {hilbert_matrix_inv}')"
   ]
  },
  {
   "cell_type": "markdown",
   "metadata": {},
   "source": [
    "### Inverse hibert matrix using numpy"
   ]
  },
  {
   "cell_type": "code",
   "execution_count": 80,
   "metadata": {},
   "outputs": [],
   "source": [
    "H7_inv_numpy=np.linalg.inv(hilber_matrix)"
   ]
  },
  {
   "cell_type": "code",
   "execution_count": 81,
   "metadata": {},
   "outputs": [
    {
     "name": "stdout",
     "output_type": "stream",
     "text": [
      "[[ 4.90000000e+01 -1.17600000e+03  8.82000001e+03 -2.94000000e+04\n",
      "   4.85100000e+04 -3.88080000e+04  1.20120000e+04]\n",
      " [-1.17600000e+03  3.76320000e+04 -3.17520000e+05  1.12896000e+06\n",
      "  -1.94040000e+06  1.59667200e+06 -5.04504000e+05]\n",
      " [ 8.82000001e+03 -3.17520000e+05  2.85768000e+06 -1.05840000e+07\n",
      "   1.87110000e+07 -1.57172400e+07  5.04504000e+06]\n",
      " [-2.94000000e+04  1.12896000e+06 -1.05840000e+07  4.03200000e+07\n",
      "  -7.27650001e+07  6.20928000e+07 -2.01801600e+07]\n",
      " [ 4.85100000e+04 -1.94040000e+06  1.87110000e+07 -7.27650001e+07\n",
      "   1.33402500e+08 -1.15259760e+08  3.78378000e+07]\n",
      " [-3.88080000e+04  1.59667200e+06 -1.57172400e+07  6.20928000e+07\n",
      "  -1.15259760e+08  1.00590336e+08 -3.32972640e+07]\n",
      " [ 1.20120000e+04 -5.04504000e+05  5.04504000e+06 -2.01801600e+07\n",
      "   3.78378000e+07 -3.32972640e+07  1.10990880e+07]]\n"
     ]
    }
   ],
   "source": [
    "print(H7_inv_numpy)"
   ]
  },
  {
   "cell_type": "markdown",
   "metadata": {},
   "source": [
    "### Inverse hilbert matrix using scipy"
   ]
  },
  {
   "cell_type": "code",
   "execution_count": 82,
   "metadata": {},
   "outputs": [],
   "source": [
    "H7_inv_scipy=scipy.linalg.invhilbert(7)"
   ]
  },
  {
   "cell_type": "code",
   "execution_count": 83,
   "metadata": {},
   "outputs": [
    {
     "name": "stdout",
     "output_type": "stream",
     "text": [
      "[[ 4.90000000e+01 -1.17600000e+03  8.82000000e+03 -2.94000000e+04\n",
      "   4.85100000e+04 -3.88080000e+04  1.20120000e+04]\n",
      " [-1.17600000e+03  3.76320000e+04 -3.17520000e+05  1.12896000e+06\n",
      "  -1.94040000e+06  1.59667200e+06 -5.04504000e+05]\n",
      " [ 8.82000000e+03 -3.17520000e+05  2.85768000e+06 -1.05840000e+07\n",
      "   1.87110000e+07 -1.57172400e+07  5.04504000e+06]\n",
      " [-2.94000000e+04  1.12896000e+06 -1.05840000e+07  4.03200000e+07\n",
      "  -7.27650000e+07  6.20928000e+07 -2.01801600e+07]\n",
      " [ 4.85100000e+04 -1.94040000e+06  1.87110000e+07 -7.27650000e+07\n",
      "   1.33402500e+08 -1.15259760e+08  3.78378000e+07]\n",
      " [-3.88080000e+04  1.59667200e+06 -1.57172400e+07  6.20928000e+07\n",
      "  -1.15259760e+08  1.00590336e+08 -3.32972640e+07]\n",
      " [ 1.20120000e+04 -5.04504000e+05  5.04504000e+06 -2.01801600e+07\n",
      "   3.78378000e+07 -3.32972640e+07  1.10990880e+07]]\n"
     ]
    }
   ],
   "source": [
    "print(H7_inv_scipy)"
   ]
  },
  {
   "cell_type": "markdown",
   "metadata": {},
   "source": [
    "### Print identity matrix by multiplying H7 and inverse H7"
   ]
  },
  {
   "cell_type": "code",
   "execution_count": 104,
   "metadata": {},
   "outputs": [],
   "source": [
    "result=hilbert_matrix@hilbert_matrix_inv"
   ]
  },
  {
   "cell_type": "code",
   "execution_count": 106,
   "metadata": {},
   "outputs": [
    {
     "name": "stdout",
     "output_type": "stream",
     "text": [
      "[[ 1.00000000e+00  1.23161798e-11  9.88428383e-12  1.60031988e-10\n",
      "   2.32124351e-10 -1.33250021e-09  1.17669683e-11]\n",
      " [-2.27373675e-13  1.00000000e+00 -1.16415322e-10  0.00000000e+00\n",
      "  -9.31322575e-10 -9.31322575e-10  0.00000000e+00]\n",
      " [-2.25671334e-13  6.34549204e-12  1.00000000e+00  2.27949610e-10\n",
      "   5.94462306e-10 -1.45031019e-09 -1.67179851e-11]\n",
      " [ 2.03104200e-13 -8.62132588e-12  9.78547910e-11  9.99999999e-01\n",
      "   1.60702585e-09 -1.02302726e-09  6.16123153e-11]\n",
      " [-2.59075589e-13  1.92319897e-11  2.14660614e-12 -1.56751380e-10\n",
      "   1.00000000e+00  2.12313117e-10 -4.58822112e-10]\n",
      " [ 8.53928039e-13 -1.70687538e-11  1.90090092e-10 -2.94699080e-10\n",
      "   1.84283059e-09  9.99999998e-01  1.03876833e-10]\n",
      " [ 7.95807864e-13 -2.18278728e-11 -2.91038305e-10  2.32830644e-10\n",
      "   9.31322575e-10  1.39698386e-09  1.00000000e+00]]\n"
     ]
    }
   ],
   "source": [
    "print(result)"
   ]
  },
  {
   "cell_type": "markdown",
   "metadata": {},
   "source": [
    "### Subtract the result from identity matrix to generate error marix"
   ]
  },
  {
   "cell_type": "code",
   "execution_count": 107,
   "metadata": {},
   "outputs": [],
   "source": [
    "I7=np.identity(7)"
   ]
  },
  {
   "cell_type": "code",
   "execution_count": 117,
   "metadata": {},
   "outputs": [
    {
     "name": "stdout",
     "output_type": "stream",
     "text": [
      "[[ 1.92734717e-13 -1.23161798e-11 -9.88428383e-12 -1.60031988e-10\n",
      "  -2.32124351e-10  1.33250021e-09 -1.17669683e-11]\n",
      " [ 2.27373675e-13 -2.18278728e-11  1.16415322e-10  0.00000000e+00\n",
      "   9.31322575e-10  9.31322575e-10  0.00000000e+00]\n",
      " [ 2.25671334e-13 -6.34549204e-12 -1.75843340e-10 -2.27949610e-10\n",
      "  -5.94462306e-10  1.45031019e-09  1.67179851e-11]\n",
      " [-2.03104200e-13  8.62132588e-12 -9.78547910e-11  6.24249763e-10\n",
      "  -1.60702585e-09  1.02302726e-09 -6.16123153e-11]\n",
      " [ 2.59075589e-13 -1.92319897e-11 -2.14660614e-12  1.56751380e-10\n",
      "  -3.91803479e-10 -2.12313117e-10  4.58822112e-10]\n",
      " [-8.53928039e-13  1.70687538e-11 -1.90090092e-10  2.94699080e-10\n",
      "  -1.84283059e-09  2.01905526e-09 -1.03876833e-10]\n",
      " [-7.95807864e-13  2.18278728e-11  2.91038305e-10 -2.32830644e-10\n",
      "  -9.31322575e-10 -1.39698386e-09 -2.32830644e-10]]\n"
     ]
    }
   ],
   "source": [
    "print(np.subtract(I7,result))"
   ]
  },
  {
   "cell_type": "markdown",
   "metadata": {},
   "source": [
    "### Compute inverse of inverse hilbert matrix"
   ]
  },
  {
   "cell_type": "code",
   "execution_count": 112,
   "metadata": {},
   "outputs": [],
   "source": [
    "new_h7_inv=np.linalg.inv(hilbert_matrix_inv)"
   ]
  },
  {
   "cell_type": "code",
   "execution_count": 113,
   "metadata": {},
   "outputs": [
    {
     "name": "stdout",
     "output_type": "stream",
     "text": [
      "[[1.         0.5        0.33333333 0.25       0.2        0.16666667\n",
      "  0.14285714]\n",
      " [0.5        0.33333333 0.25       0.2        0.16666667 0.14285714\n",
      "  0.125     ]\n",
      " [0.33333333 0.25       0.2        0.16666667 0.14285714 0.125\n",
      "  0.11111111]\n",
      " [0.25       0.2        0.16666667 0.14285714 0.125      0.11111111\n",
      "  0.1       ]\n",
      " [0.2        0.16666667 0.14285714 0.125      0.11111111 0.1\n",
      "  0.09090909]\n",
      " [0.16666667 0.14285714 0.125      0.11111111 0.1        0.09090909\n",
      "  0.08333333]\n",
      " [0.14285714 0.125      0.11111111 0.1        0.09090909 0.08333333\n",
      "  0.07692308]]\n"
     ]
    }
   ],
   "source": [
    "print(new_h7_inv)"
   ]
  },
  {
   "cell_type": "markdown",
   "metadata": {},
   "source": [
    "### Subtract the inverse of inverse hilbert matrix to generate error matrix"
   ]
  },
  {
   "cell_type": "code",
   "execution_count": 115,
   "metadata": {},
   "outputs": [
    {
     "name": "stdout",
     "output_type": "stream",
     "text": [
      "[[-1.83730808e-10 -1.61220037e-10 -1.43092704e-10 -1.28523525e-10\n",
      "  -1.16647497e-10 -1.06621989e-10 -9.82653403e-11]\n",
      " [-5.14359666e-11 -4.98694974e-11 -4.70955497e-11 -4.40961989e-11\n",
      "  -4.12255230e-11 -3.85725063e-11 -3.61750907e-11]\n",
      " [-2.61295430e-11 -2.82560086e-11 -2.82487644e-11 -2.73968070e-11\n",
      "  -2.62282140e-11 -2.49685550e-11 -2.37223574e-11]\n",
      " [-1.48476786e-11 -1.82894255e-11 -1.93556837e-11 -1.93833560e-11\n",
      "  -1.89417371e-11 -1.82924231e-11 -1.75636172e-11]\n",
      " [-8.04575850e-12 -1.20910226e-11 -1.37133360e-11 -1.42271195e-11\n",
      "  -1.42047207e-11 -1.39174089e-11 -1.35023243e-11]\n",
      " [-3.49817397e-12 -7.83251242e-12 -9.77148917e-12 -1.05837700e-11\n",
      "  -1.08300868e-11 -1.07812370e-11 -1.05768866e-11]\n",
      " [-3.23741034e-13 -4.78034279e-12 -6.90214552e-12 -7.90444099e-12\n",
      "  -8.33035030e-12 -8.44550818e-12 -8.38895620e-12]]\n"
     ]
    }
   ],
   "source": [
    "print(np.subtract(hilbert_matrix,new_h7_inv))"
   ]
  }
 ],
 "metadata": {
  "kernelspec": {
   "display_name": "Python 3",
   "language": "python",
   "name": "python3"
  },
  "language_info": {
   "codemirror_mode": {
    "name": "ipython",
    "version": 3
   },
   "file_extension": ".py",
   "mimetype": "text/x-python",
   "name": "python",
   "nbconvert_exporter": "python",
   "pygments_lexer": "ipython3",
   "version": "3.7.6"
  }
 },
 "nbformat": 4,
 "nbformat_minor": 4
}
