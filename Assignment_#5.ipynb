{
 "cells": [
  {
   "cell_type": "markdown",
   "metadata": {},
   "source": [
    "### Importing required libraries"
   ]
  },
  {
   "cell_type": "code",
   "execution_count": 1,
   "metadata": {},
   "outputs": [],
   "source": [
    "import random\n",
    "import matplotlib.pyplot as plt\n",
    "import seaborn as sns\n"
   ]
  },
  {
   "cell_type": "markdown",
   "metadata": {},
   "source": [
    "### Picking the first choice door"
   ]
  },
  {
   "cell_type": "code",
   "execution_count": 2,
   "metadata": {},
   "outputs": [],
   "source": [
    "def your_first_choice():\n",
    "    \"\"\"\n",
    "    Generate random number as first choice of door\n",
    "    \"\"\"\n",
    "    return(random.randrange(1,4)) "
   ]
  },
  {
   "cell_type": "markdown",
   "metadata": {},
   "source": [
    "### Picking the door where car is hidden"
   ]
  },
  {
   "cell_type": "code",
   "execution_count": 3,
   "metadata": {},
   "outputs": [],
   "source": [
    "def car_hidden_door():\n",
    "    \"\"\"\n",
    "    Generate random number for door behind which car is hidden\n",
    "    \n",
    "    \"\"\"\n",
    "    return(random.randrange(1,4))\n"
   ]
  },
  {
   "cell_type": "markdown",
   "metadata": {},
   "source": [
    "### Picking the door to be opened by Monty to reveal the goat"
   ]
  },
  {
   "cell_type": "code",
   "execution_count": 4,
   "metadata": {},
   "outputs": [],
   "source": [
    "def monty_opened_door(prize_door,choose_door):\n",
    "    \"\"\"\n",
    "    Assigning door to be opened by Monty\n",
    "    @param prize_door the door where prize is hidden\n",
    "    @param choose_door the door chosen by competitor\n",
    "    \n",
    "    \"\"\"\n",
    "    monty_choose_door=random.choice([d for d in range(1,4) if d not in [prize_door,choose_door]])\n",
    "    return(monty_choose_door)"
   ]
  },
  {
   "cell_type": "markdown",
   "metadata": {},
   "source": [
    "### Picking the second choice of door, to make the switch"
   ]
  },
  {
   "cell_type": "code",
   "execution_count": 5,
   "metadata": {},
   "outputs": [],
   "source": [
    "def second_choice(first_choice,monty_door):\n",
    "    \"\"\"\n",
    "    Determining the door to switch \n",
    "    @param first_choice the first choice of the competitor\n",
    "    @param monty_door the door opened by monty to reveal goat\n",
    "    \n",
    "    \"\"\"\n",
    "    \n",
    "    switch_door=(set(range(1,4))-{first_choice,monty_door}).pop()\n",
    "    return(switch_door)\n",
    "    \n",
    "    \n",
    "    "
   ]
  },
  {
   "cell_type": "markdown",
   "metadata": {},
   "source": [
    "### Function to display bar chart"
   ]
  },
  {
   "cell_type": "code",
   "execution_count": 6,
   "metadata": {},
   "outputs": [],
   "source": [
    "def show_bar_chart(title, y_label, x_values, y_values, bar_toppers):\n",
    "    \"\"\"\n",
    "    Display a bar chart.\n",
    "    @param title the chart title.\n",
    "    @param y_label the label for the y axis\n",
    "    @param x_values the x values to plot\n",
    "    @param y_values the y values to plot\n",
    "    @param bar_toppers the text above each bar\n",
    "    \"\"\"\n",
    "    axes = sns.barplot(x_values, y_values)\n",
    "    axes.set_title(title)\n",
    "    axes.set(ylabel=y_label)\n",
    "    axes.tick_params(left=False,bottom=False)\n",
    "\n",
    "    # Scale the y-axis by 10% to make room for text above the bars.\n",
    "    axes.set_ylim(top=1.10*max(y_values))\n",
    "\n",
    "    # Display the topper text above each patch (bar).\n",
    "    for bar, topper in zip(axes.patches, bar_toppers):\n",
    "        text_x = bar.get_x() + bar.get_width()/2  \n",
    "        text_y = bar.get_height() \n",
    "        axes.text(text_x, text_y, topper, \n",
    "                  fontsize=11, ha='center', va='bottom')"
   ]
  },
  {
   "cell_type": "markdown",
   "metadata": {},
   "source": [
    "### Displaying the simulations"
   ]
  },
  {
   "cell_type": "code",
   "execution_count": 7,
   "metadata": {},
   "outputs": [
    {
     "name": "stdout",
     "output_type": "stream",
     "text": [
      "Simulation\n",
      "index  Car hidden here!  Your first choice  Monty opened door  Your Second choice  Win if stay?  Win if switch?\n",
      "\n",
      "1\t\t 3\t\t1\t\t2\t\t\t3 \t\t \t\tyes\n",
      "2\t\t 3\t\t1\t\t2\t\t\t3 \t\t \t\tyes\n",
      "3\t\t 3\t\t2\t\t1\t\t\t3 \t\t \t\tyes\n",
      "4\t\t 1\t\t2\t\t3\t\t\t1 \t\t \t\tyes\n",
      "5\t\t 2\t\t3\t\t1\t\t\t2 \t\t \t\tyes\n",
      "6\t\t 2\t\t1\t\t3\t\t\t2 \t\t \t\tyes\n",
      "7\t\t 2\t\t2\t\t3\t\t\t1 \t\tyes \t\t\n",
      "8\t\t 3\t\t2\t\t1\t\t\t3 \t\t \t\tyes\n",
      "9\t\t 3\t\t3\t\t2\t\t\t1 \t\tyes \t\t\n",
      "10\t\t 3\t\t2\t\t1\t\t\t3 \t\t \t\tyes\n",
      "11\t\t 1\t\t3\t\t2\t\t\t1 \t\t \t\tyes\n",
      "12\t\t 1\t\t2\t\t3\t\t\t1 \t\t \t\tyes\n",
      "13\t\t 3\t\t1\t\t2\t\t\t3 \t\t \t\tyes\n",
      "14\t\t 3\t\t3\t\t2\t\t\t1 \t\tyes \t\t\n",
      "15\t\t 1\t\t3\t\t2\t\t\t1 \t\t \t\tyes\n",
      "16\t\t 2\t\t2\t\t3\t\t\t1 \t\tyes \t\t\n",
      "17\t\t 2\t\t1\t\t3\t\t\t2 \t\t \t\tyes\n",
      "18\t\t 1\t\t3\t\t2\t\t\t1 \t\t \t\tyes\n",
      "19\t\t 1\t\t1\t\t2\t\t\t3 \t\tyes \t\t\n",
      "20\t\t 2\t\t1\t\t3\t\t\t2 \t\t \t\tyes\n",
      "21\t\t 2\t\t2\t\t3\t\t\t1 \t\tyes \t\t\n",
      "22\t\t 1\t\t3\t\t2\t\t\t1 \t\t \t\tyes\n",
      "23\t\t 3\t\t1\t\t2\t\t\t3 \t\t \t\tyes\n",
      "24\t\t 1\t\t2\t\t3\t\t\t1 \t\t \t\tyes\n",
      "25\t\t 3\t\t1\t\t2\t\t\t3 \t\t \t\tyes\n",
      "26\t\t 3\t\t3\t\t1\t\t\t2 \t\tyes \t\t\n",
      "27\t\t 1\t\t1\t\t3\t\t\t2 \t\tyes \t\t\n",
      "28\t\t 3\t\t2\t\t1\t\t\t3 \t\t \t\tyes\n",
      "29\t\t 3\t\t3\t\t2\t\t\t1 \t\tyes \t\t\n",
      "30\t\t 1\t\t3\t\t2\t\t\t1 \t\t \t\tyes\n",
      "31\t\t 3\t\t3\t\t1\t\t\t2 \t\tyes \t\t\n",
      "32\t\t 1\t\t1\t\t3\t\t\t2 \t\tyes \t\t\n",
      "33\t\t 3\t\t2\t\t1\t\t\t3 \t\t \t\tyes\n",
      "34\t\t 1\t\t2\t\t3\t\t\t1 \t\t \t\tyes\n",
      "35\t\t 3\t\t2\t\t1\t\t\t3 \t\t \t\tyes\n",
      "36\t\t 2\t\t1\t\t3\t\t\t2 \t\t \t\tyes\n",
      "37\t\t 3\t\t3\t\t2\t\t\t1 \t\tyes \t\t\n",
      "38\t\t 2\t\t3\t\t1\t\t\t2 \t\t \t\tyes\n",
      "39\t\t 1\t\t2\t\t3\t\t\t1 \t\t \t\tyes\n",
      "40\t\t 3\t\t3\t\t1\t\t\t2 \t\tyes \t\t\n",
      "41\t\t 3\t\t3\t\t1\t\t\t2 \t\tyes \t\t\n",
      "42\t\t 1\t\t2\t\t3\t\t\t1 \t\t \t\tyes\n",
      "43\t\t 3\t\t2\t\t1\t\t\t3 \t\t \t\tyes\n",
      "44\t\t 1\t\t3\t\t2\t\t\t1 \t\t \t\tyes\n",
      "45\t\t 2\t\t2\t\t1\t\t\t3 \t\tyes \t\t\n",
      "46\t\t 2\t\t3\t\t1\t\t\t2 \t\t \t\tyes\n",
      "47\t\t 3\t\t1\t\t2\t\t\t3 \t\t \t\tyes\n",
      "48\t\t 2\t\t3\t\t1\t\t\t2 \t\t \t\tyes\n",
      "49\t\t 1\t\t3\t\t2\t\t\t1 \t\t \t\tyes\n",
      "50\t\t 3\t\t1\t\t2\t\t\t3 \t\t \t\tyes\n",
      "51\t\t 3\t\t3\t\t1\t\t\t2 \t\tyes \t\t\n",
      "52\t\t 2\t\t3\t\t1\t\t\t2 \t\t \t\tyes\n",
      "53\t\t 1\t\t2\t\t3\t\t\t1 \t\t \t\tyes\n",
      "54\t\t 1\t\t3\t\t2\t\t\t1 \t\t \t\tyes\n",
      "55\t\t 3\t\t3\t\t2\t\t\t1 \t\tyes \t\t\n",
      "56\t\t 1\t\t3\t\t2\t\t\t1 \t\t \t\tyes\n",
      "57\t\t 2\t\t1\t\t3\t\t\t2 \t\t \t\tyes\n",
      "58\t\t 1\t\t2\t\t3\t\t\t1 \t\t \t\tyes\n",
      "59\t\t 2\t\t2\t\t3\t\t\t1 \t\tyes \t\t\n",
      "60\t\t 1\t\t1\t\t3\t\t\t2 \t\tyes \t\t\n",
      "61\t\t 2\t\t3\t\t1\t\t\t2 \t\t \t\tyes\n",
      "62\t\t 2\t\t1\t\t3\t\t\t2 \t\t \t\tyes\n",
      "63\t\t 1\t\t3\t\t2\t\t\t1 \t\t \t\tyes\n",
      "64\t\t 3\t\t3\t\t1\t\t\t2 \t\tyes \t\t\n",
      "65\t\t 1\t\t3\t\t2\t\t\t1 \t\t \t\tyes\n",
      "66\t\t 1\t\t3\t\t2\t\t\t1 \t\t \t\tyes\n",
      "67\t\t 3\t\t1\t\t2\t\t\t3 \t\t \t\tyes\n",
      "68\t\t 3\t\t2\t\t1\t\t\t3 \t\t \t\tyes\n",
      "69\t\t 2\t\t1\t\t3\t\t\t2 \t\t \t\tyes\n",
      "70\t\t 3\t\t3\t\t2\t\t\t1 \t\tyes \t\t\n",
      "71\t\t 3\t\t1\t\t2\t\t\t3 \t\t \t\tyes\n",
      "72\t\t 1\t\t1\t\t3\t\t\t2 \t\tyes \t\t\n",
      "73\t\t 1\t\t2\t\t3\t\t\t1 \t\t \t\tyes\n",
      "74\t\t 3\t\t3\t\t1\t\t\t2 \t\tyes \t\t\n",
      "75\t\t 2\t\t3\t\t1\t\t\t2 \t\t \t\tyes\n",
      "76\t\t 3\t\t3\t\t2\t\t\t1 \t\tyes \t\t\n",
      "77\t\t 1\t\t1\t\t3\t\t\t2 \t\tyes \t\t\n",
      "78\t\t 3\t\t1\t\t2\t\t\t3 \t\t \t\tyes\n",
      "79\t\t 2\t\t2\t\t1\t\t\t3 \t\tyes \t\t\n",
      "80\t\t 1\t\t1\t\t2\t\t\t3 \t\tyes \t\t\n",
      "81\t\t 2\t\t1\t\t3\t\t\t2 \t\t \t\tyes\n",
      "82\t\t 1\t\t2\t\t3\t\t\t1 \t\t \t\tyes\n",
      "83\t\t 3\t\t1\t\t2\t\t\t3 \t\t \t\tyes\n",
      "84\t\t 3\t\t3\t\t2\t\t\t1 \t\tyes \t\t\n",
      "85\t\t 2\t\t2\t\t1\t\t\t3 \t\tyes \t\t\n",
      "86\t\t 2\t\t1\t\t3\t\t\t2 \t\t \t\tyes\n",
      "87\t\t 3\t\t3\t\t2\t\t\t1 \t\tyes \t\t\n",
      "88\t\t 1\t\t3\t\t2\t\t\t1 \t\t \t\tyes\n",
      "89\t\t 3\t\t3\t\t1\t\t\t2 \t\tyes \t\t\n",
      "90\t\t 3\t\t2\t\t1\t\t\t3 \t\t \t\tyes\n",
      "91\t\t 1\t\t1\t\t2\t\t\t3 \t\tyes \t\t\n",
      "92\t\t 3\t\t2\t\t1\t\t\t3 \t\t \t\tyes\n",
      "93\t\t 3\t\t1\t\t2\t\t\t3 \t\t \t\tyes\n",
      "94\t\t 2\t\t3\t\t1\t\t\t2 \t\t \t\tyes\n",
      "95\t\t 1\t\t1\t\t3\t\t\t2 \t\tyes \t\t\n",
      "96\t\t 1\t\t2\t\t3\t\t\t1 \t\t \t\tyes\n",
      "97\t\t 3\t\t3\t\t1\t\t\t2 \t\tyes \t\t\n",
      "98\t\t 2\t\t2\t\t1\t\t\t3 \t\tyes \t\t\n",
      "99\t\t 2\t\t2\t\t3\t\t\t1 \t\tyes \t\t\n",
      "100\t\t 1\t\t3\t\t2\t\t\t1 \t\t \t\tyes\n",
      "\n",
      "36 wins if you stayed with your first choice\n",
      "64 wins if you switched to your second choice\n",
      "\n",
      "Win ratio of switching over staying:1.8\n"
     ]
    }
   ],
   "source": [
    "count_stay,count_switch=0,0 #setting the counters to count stay and switch count to 0\n",
    "\n",
    "simulation=100 #numbers of simulations to be performed\n",
    "\n",
    "col1=\"Simulation\\nindex\" \n",
    "col2=\"Car hidden here!\"\n",
    "col3=\"Your first choice\"\n",
    "col4=\"Monty opened door\"\n",
    "col5=\"Your Second choice\"\n",
    "col6=\"Win if stay?\"\n",
    "col7=\"Win if switch?\\n\"\n",
    "columns=[col1,col2,col3,col4,col5,col6,col7] # Adding header to column\n",
    "header='  '.join(columns)\n",
    "print(header)\n",
    "\n",
    "\n",
    "\n",
    "# calling all functions and performing simulations\n",
    "\n",
    "for x in range(1,simulation+1):\n",
    "    chosen_door=your_first_choice()\n",
    "    prize_door=car_hidden_door()\n",
    "    monty_chosen_door=monty_opened_door(prize_door,chosen_door)\n",
    "    switch_door=second_choice(chosen_door,monty_chosen_door)\n",
    "    \n",
    "    \n",
    "    # Determing the stay and switch count\n",
    "    \n",
    "    if chosen_door==prize_door:\n",
    "        win_if_stay='yes'\n",
    "        count_stay+=1\n",
    "    else:\n",
    "        win_if_stay=''\n",
    "    if prize_door==switch_door:\n",
    "        win_if_switch='yes'\n",
    "        count_switch+=1\n",
    "    else:\n",
    "        win_if_switch=''\n",
    "    \n",
    "    print(f'{x}\\t\\t {prize_door}\\t\\t{chosen_door}\\t\\t{monty_chosen_door}\\t\\t\\t{switch_door} \\t\\t{win_if_stay} \\t\\t{win_if_switch}')\n",
    "\n",
    "# printing the stay count and switch count and Win ratio\n",
    "print(f'\\n{count_stay} wins if you stayed with your first choice\\n{count_switch} wins if you switched to your second choice')\n",
    "print(f'\\nWin ratio of switching over staying:{count_switch/count_stay:.2}')\n",
    "\n",
    "\n"
   ]
  },
  {
   "cell_type": "markdown",
   "metadata": {},
   "source": [
    "### Plotting the simulations"
   ]
  },
  {
   "cell_type": "code",
   "execution_count": 8,
   "metadata": {
    "scrolled": true
   },
   "outputs": [
    {
     "data": {
      "image/png": "[encoded data removed]",
      "text/plain": [
       "<Figure size 432x288 with 1 Axes>"
      ]
     },
     "metadata": {
      "needs_background": "light"
     },
     "output_type": "display_data"
    }
   ],
   "source": [
    "\n",
    "#plotting the simulation result on bar chart\n",
    "count_values=[count_stay,count_switch]\n",
    "topper = [f'{value/simulation:.1%}' for value in count_values] #displaying the topper on chart\n",
    "show_bar_chart(f'Stay vs Switch win percentage after {simulation} simulations ', 'Percentage', ['Stay','Switch'],[(value/simulation)*100 for value in count_values],topper)\n",
    "sns.set_style('whitegrid')\n",
    "plt.show()"
   ]
  },
  {
   "cell_type": "code",
   "execution_count": null,
   "metadata": {},
   "outputs": [],
   "source": [
    "#Free Thinkers Team."
   ]
  }
 ],
 "metadata": {
  "kernelspec": {
   "display_name": "Python 3",
   "language": "python",
   "name": "python3"
  },
  "language_info": {
   "codemirror_mode": {
    "name": "ipython",
    "version": 3
   },
   "file_extension": ".py",
   "mimetype": "text/x-python",
   "name": "python",
   "nbconvert_exporter": "python",
   "pygments_lexer": "ipython3",
   "version": "3.7.6"
  }
 },
 "nbformat": 4,
 "nbformat_minor": 4
}
