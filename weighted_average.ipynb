{
 "cells": [
  {
   "cell_type": "markdown",
   "metadata": {},
   "source": [
    "## Weighted average"
   ]
  },
  {
   "cell_type": "code",
   "execution_count": 4,
   "metadata": {},
   "outputs": [
    {
     "name": "stdout",
     "output_type": "stream",
     "text": [
      "statistics.mean(x_list)  = 3.29\n"
     ]
    }
   ],
   "source": [
    "import statistics\n",
    "\n",
    "x_list  = [4, 7, 4, 0, -3, 4, 7]\n",
    "mean_list  = statistics.mean(x_list)\n",
    "\n",
    "print(f'statistics.mean(x_list)  = {mean_list:.2f}')"
   ]
  },
  {
   "cell_type": "code",
   "execution_count": 5,
   "metadata": {},
   "outputs": [
    {
     "name": "stdout",
     "output_type": "stream",
     "text": [
      "np.average(unique_values, weights=value_weights) = 3.29\n"
     ]
    }
   ],
   "source": [
    "import numpy as np\n",
    "\n",
    "unique_values = [4, 7, 0, -3]\n",
    "value_weights = [3, 2, 1, 1]\n",
    "weighted_average = np.average(unique_values, weights=value_weights)\n",
    "\n",
    "print('np.average(unique_values, weights=value_weights) = ' +\n",
    "      f'{weighted_average:.2f}')"
   ]
  },
  {
   "cell_type": "code",
   "execution_count": null,
   "metadata": {},
   "outputs": [],
   "source": []
  }
 ],
 "metadata": {
  "kernelspec": {
   "display_name": "Python 3",
   "language": "python",
   "name": "python3"
  },
  "language_info": {
   "codemirror_mode": {
    "name": "ipython",
    "version": 3
   },
   "file_extension": ".py",
   "mimetype": "text/x-python",
   "name": "python",
   "nbconvert_exporter": "python",
   "pygments_lexer": "ipython3",
   "version": "3.7.6"
  }
 },
 "nbformat": 4,
 "nbformat_minor": 4
}
