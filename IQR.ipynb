{
 "cells": [
  {
   "cell_type": "markdown",
   "metadata": {},
   "source": [
    "## Some random values"
   ]
  },
  {
   "cell_type": "code",
   "execution_count": 1,
   "metadata": {},
   "outputs": [
    {
     "name": "stdout",
     "output_type": "stream",
     "text": [
      "100 data values\n"
     ]
    }
   ],
   "source": [
    "import random\n",
    "\n",
    "x_list  = [int(random.uniform(0, 1000)) for _ in range(0, 100)]\n",
    "count = len(x_list)\n",
    "\n",
    "print(f'{count} data values')"
   ]
  },
  {
   "cell_type": "markdown",
   "metadata": {},
   "source": [
    "## Function to compute the interquartile range (IQR)"
   ]
  },
  {
   "cell_type": "code",
   "execution_count": 2,
   "metadata": {},
   "outputs": [],
   "source": [
    "import numpy as np\n",
    "\n",
    "def iqr_of(values):\n",
    "    \"\"\"\n",
    "    Compute the interquartile range of a list of values.\n",
    "    @param values the list of values.\n",
    "    @return the interquartile range.\n",
    "    \"\"\"\n",
    "    \n",
    "    return np.percentile(x_list, 75) - np.percentile(x_list, 25)"
   ]
  },
  {
   "cell_type": "code",
   "execution_count": 3,
   "metadata": {},
   "outputs": [
    {
     "name": "stdout",
     "output_type": "stream",
     "text": [
      "iqr_of(x_list) = 543.5\n"
     ]
    }
   ],
   "source": [
    "iqr = iqr_of(x_list)\n",
    "print(f'iqr_of(x_list) = {iqr}')"
   ]
  },
  {
   "cell_type": "markdown",
   "metadata": {},
   "source": [
    "## stats.iqr function"
   ]
  },
  {
   "cell_type": "code",
   "execution_count": 4,
   "metadata": {},
   "outputs": [
    {
     "name": "stdout",
     "output_type": "stream",
     "text": [
      "stats.iqr(x_list) = 543.5\n"
     ]
    }
   ],
   "source": [
    "from scipy import stats\n",
    "\n",
    "stats_iqr = stats.iqr(x_list)\n",
    "print(f'stats.iqr(x_list) = {stats_iqr}')"
   ]
  },
  {
   "cell_type": "markdown",
   "metadata": {},
   "source": [
    "## 2-d array"
   ]
  },
  {
   "cell_type": "code",
   "execution_count": 7,
   "metadata": {},
   "outputs": [
    {
     "name": "stdout",
     "output_type": "stream",
     "text": [
      "stats.iqr(matrix [all]           = 10.0\n",
      "stats.iqr(matrix, axis=0) [cols] = [11.25  5.25 10.75  6.    8.25  7.5  10.75  8.25  7.    8.5 ]\n",
      "stats.iqr(matrix, axis=1) [rows] = [ 8.75  2.25  5.5   9.25 13.5   7.25 11.    4.25  9.25  8.75]\n"
     ]
    }
   ],
   "source": [
    "# 10 x 10 matrix\n",
    "matrix = np.array([[int(random.uniform(0, 25)) for _ in range(0, 10)] \n",
    "                   for _ in range(0, 10)])\n",
    "\n",
    "iqr_of_all  = stats.iqr(matrix)\n",
    "iqr_of_cols = stats.iqr(matrix, axis=0)\n",
    "iqr_of_rows = stats.iqr(matrix, axis=1)\n",
    "\n",
    "print(f'stats.iqr(matrix [all]           = {iqr_of_all}')\n",
    "print(f'stats.iqr(matrix, axis=0) [cols] = {iqr_of_cols}')\n",
    "print(f'stats.iqr(matrix, axis=1) [rows] = {iqr_of_rows}')"
   ]
  },
  {
   "cell_type": "code",
   "execution_count": null,
   "metadata": {},
   "outputs": [],
   "source": []
  }
 ],
 "metadata": {
  "kernelspec": {
   "display_name": "Python 3",
   "language": "python",
   "name": "python3"
  },
  "language_info": {
   "codemirror_mode": {
    "name": "ipython",
    "version": 3
   },
   "file_extension": ".py",
   "mimetype": "text/x-python",
   "name": "python",
   "nbconvert_exporter": "python",
   "pygments_lexer": "ipython3",
   "version": "3.7.3"
  }
 },
 "nbformat": 4,
 "nbformat_minor": 4
}
