{
 "cells": [
  {
   "cell_type": "markdown",
   "metadata": {},
   "source": [
    "##  Analysis of the Titanic Survival Dataset \n",
    "### Load the dataset"
   ]
  },
  {
   "cell_type": "code",
   "execution_count": 1,
   "metadata": {},
   "outputs": [
    {
     "data": {
      "text/html": [
       "<div>\n",
       "<style scoped>\n",
       "    .dataframe tbody tr th:only-of-type {\n",
       "        vertical-align: middle;\n",
       "    }\n",
       "\n",
       "    .dataframe tbody tr th {\n",
       "        vertical-align: top;\n",
       "    }\n",
       "\n",
       "    .dataframe thead th {\n",
       "        text-align: right;\n",
       "    }\n",
       "</style>\n",
       "<table border=\"1\" class=\"dataframe\">\n",
       "  <thead>\n",
       "    <tr style=\"text-align: right;\">\n",
       "      <th></th>\n",
       "      <th>name</th>\n",
       "      <th>survived</th>\n",
       "      <th>sex</th>\n",
       "      <th>age</th>\n",
       "      <th>passengerClass</th>\n",
       "    </tr>\n",
       "  </thead>\n",
       "  <tbody>\n",
       "    <tr>\n",
       "      <th>0</th>\n",
       "      <td>Allen, Miss. Elisabeth Walton</td>\n",
       "      <td>yes</td>\n",
       "      <td>female</td>\n",
       "      <td>29.00</td>\n",
       "      <td>1st</td>\n",
       "    </tr>\n",
       "    <tr>\n",
       "      <th>1</th>\n",
       "      <td>Allison, Master. Hudson Trevor</td>\n",
       "      <td>yes</td>\n",
       "      <td>male</td>\n",
       "      <td>0.92</td>\n",
       "      <td>1st</td>\n",
       "    </tr>\n",
       "    <tr>\n",
       "      <th>2</th>\n",
       "      <td>Allison, Miss. Helen Loraine</td>\n",
       "      <td>no</td>\n",
       "      <td>female</td>\n",
       "      <td>2.00</td>\n",
       "      <td>1st</td>\n",
       "    </tr>\n",
       "    <tr>\n",
       "      <th>3</th>\n",
       "      <td>Allison, Mr. Hudson Joshua Crei</td>\n",
       "      <td>no</td>\n",
       "      <td>male</td>\n",
       "      <td>30.00</td>\n",
       "      <td>1st</td>\n",
       "    </tr>\n",
       "    <tr>\n",
       "      <th>4</th>\n",
       "      <td>Allison, Mrs. Hudson J C (Bessi</td>\n",
       "      <td>no</td>\n",
       "      <td>female</td>\n",
       "      <td>25.00</td>\n",
       "      <td>1st</td>\n",
       "    </tr>\n",
       "  </tbody>\n",
       "</table>\n",
       "</div>"
      ],
      "text/plain": [
       "                              name survived     sex    age passengerClass\n",
       "0    Allen, Miss. Elisabeth Walton      yes  female  29.00            1st\n",
       "1   Allison, Master. Hudson Trevor      yes    male   0.92            1st\n",
       "2     Allison, Miss. Helen Loraine       no  female   2.00            1st\n",
       "3  Allison, Mr. Hudson Joshua Crei       no    male  30.00            1st\n",
       "4  Allison, Mrs. Hudson J C (Bessi       no  female  25.00            1st"
      ]
     },
     "execution_count": 1,
     "metadata": {},
     "output_type": "execute_result"
    }
   ],
   "source": [
    "import pandas as pd\n",
    "\n",
    "titanic = pd.read_csv('TitanicSurvival.csv')  \n",
    "titanic.columns = ['name', 'survived', 'sex', 'age', 'passengerClass']\n",
    "\n",
    "pd.set_option('precision', 2)  # format for floating-point values\n",
    "titanic.head()"
   ]
  },
  {
   "cell_type": "code",
   "execution_count": 2,
   "metadata": {},
   "outputs": [
    {
     "data": {
      "text/html": [
       "<div>\n",
       "<style scoped>\n",
       "    .dataframe tbody tr th:only-of-type {\n",
       "        vertical-align: middle;\n",
       "    }\n",
       "\n",
       "    .dataframe tbody tr th {\n",
       "        vertical-align: top;\n",
       "    }\n",
       "\n",
       "    .dataframe thead th {\n",
       "        text-align: right;\n",
       "    }\n",
       "</style>\n",
       "<table border=\"1\" class=\"dataframe\">\n",
       "  <thead>\n",
       "    <tr style=\"text-align: right;\">\n",
       "      <th></th>\n",
       "      <th>name</th>\n",
       "      <th>survived</th>\n",
       "      <th>sex</th>\n",
       "      <th>age</th>\n",
       "      <th>passengerClass</th>\n",
       "    </tr>\n",
       "  </thead>\n",
       "  <tbody>\n",
       "    <tr>\n",
       "      <th>1304</th>\n",
       "      <td>Zabour, Miss. Hileni</td>\n",
       "      <td>no</td>\n",
       "      <td>female</td>\n",
       "      <td>14.5</td>\n",
       "      <td>3rd</td>\n",
       "    </tr>\n",
       "    <tr>\n",
       "      <th>1305</th>\n",
       "      <td>Zabour, Miss. Thamine</td>\n",
       "      <td>no</td>\n",
       "      <td>female</td>\n",
       "      <td>NaN</td>\n",
       "      <td>3rd</td>\n",
       "    </tr>\n",
       "    <tr>\n",
       "      <th>1306</th>\n",
       "      <td>Zakarian, Mr. Mapriededer</td>\n",
       "      <td>no</td>\n",
       "      <td>male</td>\n",
       "      <td>26.5</td>\n",
       "      <td>3rd</td>\n",
       "    </tr>\n",
       "    <tr>\n",
       "      <th>1307</th>\n",
       "      <td>Zakarian, Mr. Ortin</td>\n",
       "      <td>no</td>\n",
       "      <td>male</td>\n",
       "      <td>27.0</td>\n",
       "      <td>3rd</td>\n",
       "    </tr>\n",
       "    <tr>\n",
       "      <th>1308</th>\n",
       "      <td>Zimmerman, Mr. Leo</td>\n",
       "      <td>no</td>\n",
       "      <td>male</td>\n",
       "      <td>29.0</td>\n",
       "      <td>3rd</td>\n",
       "    </tr>\n",
       "  </tbody>\n",
       "</table>\n",
       "</div>"
      ],
      "text/plain": [
       "                           name survived     sex   age passengerClass\n",
       "1304       Zabour, Miss. Hileni       no  female  14.5            3rd\n",
       "1305      Zabour, Miss. Thamine       no  female   NaN            3rd\n",
       "1306  Zakarian, Mr. Mapriededer       no    male  26.5            3rd\n",
       "1307        Zakarian, Mr. Ortin       no    male  27.0            3rd\n",
       "1308         Zimmerman, Mr. Leo       no    male  29.0            3rd"
      ]
     },
     "execution_count": 2,
     "metadata": {},
     "output_type": "execute_result"
    }
   ],
   "source": [
    "titanic.tail()"
   ]
  },
  {
   "cell_type": "markdown",
   "metadata": {},
   "source": [
    "## Age counts"
   ]
  },
  {
   "cell_type": "code",
   "execution_count": 3,
   "metadata": {},
   "outputs": [
    {
     "name": "stdout",
     "output_type": "stream",
     "text": [
      "count of all  ages = 1309\n",
      "count of good ages = 1046\n",
      " mean of good ages = 29.88\n"
     ]
    }
   ],
   "source": [
    "import math\n",
    "\n",
    "passenger_count = len(titanic.age)\n",
    "\n",
    "good_ages = [age for age in titanic.age if not math.isnan(age)]\n",
    "good_ages_count = len(good_ages)\n",
    "\n",
    "mean_age = sum(good_ages)/good_ages_count\n",
    "\n",
    "print(f'count of all  ages = {passenger_count}')\n",
    "print(f'count of good ages = {good_ages_count}')\n",
    "print(f' mean of good ages = {mean_age:.2f}')"
   ]
  },
  {
   "cell_type": "code",
   "execution_count": 4,
   "metadata": {},
   "outputs": [
    {
     "name": "stdout",
     "output_type": "stream",
     "text": [
      "len(sorted(good_ages)) = 1046\n"
     ]
    }
   ],
   "source": [
    "sorted_good_ages = sorted(good_ages)\n",
    "print(f'len(sorted(good_ages)) = {len(sorted_good_ages)}')"
   ]
  },
  {
   "cell_type": "markdown",
   "metadata": {},
   "source": [
    "## Descriptive age statistics"
   ]
  },
  {
   "cell_type": "code",
   "execution_count": 5,
   "metadata": {},
   "outputs": [
    {
     "data": {
      "text/html": [
       "<div>\n",
       "<style scoped>\n",
       "    .dataframe tbody tr th:only-of-type {\n",
       "        vertical-align: middle;\n",
       "    }\n",
       "\n",
       "    .dataframe tbody tr th {\n",
       "        vertical-align: top;\n",
       "    }\n",
       "\n",
       "    .dataframe thead th {\n",
       "        text-align: right;\n",
       "    }\n",
       "</style>\n",
       "<table border=\"1\" class=\"dataframe\">\n",
       "  <thead>\n",
       "    <tr style=\"text-align: right;\">\n",
       "      <th></th>\n",
       "      <th>age</th>\n",
       "    </tr>\n",
       "  </thead>\n",
       "  <tbody>\n",
       "    <tr>\n",
       "      <th>count</th>\n",
       "      <td>1046.00</td>\n",
       "    </tr>\n",
       "    <tr>\n",
       "      <th>mean</th>\n",
       "      <td>29.88</td>\n",
       "    </tr>\n",
       "    <tr>\n",
       "      <th>std</th>\n",
       "      <td>14.41</td>\n",
       "    </tr>\n",
       "    <tr>\n",
       "      <th>min</th>\n",
       "      <td>0.17</td>\n",
       "    </tr>\n",
       "    <tr>\n",
       "      <th>25%</th>\n",
       "      <td>21.00</td>\n",
       "    </tr>\n",
       "    <tr>\n",
       "      <th>50%</th>\n",
       "      <td>28.00</td>\n",
       "    </tr>\n",
       "    <tr>\n",
       "      <th>75%</th>\n",
       "      <td>39.00</td>\n",
       "    </tr>\n",
       "    <tr>\n",
       "      <th>max</th>\n",
       "      <td>80.00</td>\n",
       "    </tr>\n",
       "  </tbody>\n",
       "</table>\n",
       "</div>"
      ],
      "text/plain": [
       "           age\n",
       "count  1046.00\n",
       "mean     29.88\n",
       "std      14.41\n",
       "min       0.17\n",
       "25%      21.00\n",
       "50%      28.00\n",
       "75%      39.00\n",
       "max      80.00"
      ]
     },
     "execution_count": 5,
     "metadata": {},
     "output_type": "execute_result"
    }
   ],
   "source": [
    "titanic.describe()# descriptive stat"
   ]
  },
  {
   "cell_type": "code",
   "execution_count": 6,
   "metadata": {},
   "outputs": [
    {
     "data": {
      "text/plain": [
       "array([[<matplotlib.axes._subplots.AxesSubplot object at 0x11a935d50>]],\n",
       "      dtype=object)"
      ]
     },
     "execution_count": 6,
     "metadata": {},
     "output_type": "execute_result"
    },
    {
     "data": {
      "image/png": "[encoded data removed]",
      "text/plain": [
       "<Figure size 1440x720 with 1 Axes>"
      ]
     },
     "metadata": {
      "needs_background": "light"
     },
     "output_type": "display_data"
    }
   ],
   "source": [
    "%matplotlib inline\n",
    "import matplotlib.pyplot as plt\n",
    "plt.rcParams[\"figure.figsize\"] = (20,10)\n",
    "titanic.hist()  # passenger age only"
   ]
  },
  {
   "cell_type": "code",
   "execution_count": 7,
   "metadata": {},
   "outputs": [
    {
     "name": "stdout",
     "output_type": "stream",
     "text": [
      "min of ages = 0.17\n",
      "max of ages = 80.00\n"
     ]
    }
   ],
   "source": [
    "min_age = sorted_good_ages[0]\n",
    "max_age = sorted_good_ages[-1]\n",
    "\n",
    "print(f'min of ages = {min_age:.2f}')\n",
    "print(f'max of ages = {max_age:.2f}')"
   ]
  },
  {
   "cell_type": "markdown",
   "metadata": {},
   "source": [
    "## Age mean, median, variance, and standard deviation"
   ]
  },
  {
   "cell_type": "markdown",
   "metadata": {},
   "source": [
    "#### Use the statistics module"
   ]
  },
  {
   "cell_type": "code",
   "execution_count": 8,
   "metadata": {},
   "outputs": [
    {
     "name": "stdout",
     "output_type": "stream",
     "text": [
      "stat.mean      = 29.88\n",
      "stat.median    = 28.00\n",
      "stat.pvariance = 207.55\n",
      "stat.pstdev    = 14.41\n"
     ]
    }
   ],
   "source": [
    "import statistics as stat\n",
    "\n",
    "print(f'stat.mean      = {stat.mean(good_ages):.2f}')\n",
    "print(f'stat.median    = {stat.median(good_ages):.2f}')\n",
    "print(f'stat.pvariance = {stat.pvariance(good_ages):.2f}')\n",
    "print(f'stat.pstdev    = {stat.pstdev(good_ages):.2f}')"
   ]
  },
  {
   "cell_type": "markdown",
   "metadata": {},
   "source": [
    "#### Compute from the definitions"
   ]
  },
  {
   "cell_type": "code",
   "execution_count": 9,
   "metadata": {},
   "outputs": [
    {
     "name": "stdout",
     "output_type": "stream",
     "text": [
      "median of good ages = 28.00\n"
     ]
    }
   ],
   "source": [
    "mid = good_ages_count//2\n",
    "\n",
    "if good_ages_count%2 == 1:\n",
    "    median_age = sorted_good_ages[mid+1]\n",
    "else:\n",
    "    median_age = (sorted_good_ages[mid] + sorted_good_ages[mid+1])/2\n",
    "    \n",
    "print(f'median of good ages = {median_age:.2f}')"
   ]
  },
  {
   "cell_type": "code",
   "execution_count": 10,
   "metadata": {},
   "outputs": [
    {
     "name": "stdout",
     "output_type": "stream",
     "text": [
      "sum sqrs of ages = 217097.68\n",
      "variance of ages = 207.55\n",
      " std dev of ages = 14.41\n"
     ]
    }
   ],
   "source": [
    "sum_of_squares = 0\n",
    "\n",
    "for age in good_ages:\n",
    "    sum_of_squares += (age - mean_age)**2\n",
    "    \n",
    "variance = sum_of_squares/good_ages_count\n",
    "stdev    = math.sqrt(variance)\n",
    "\n",
    "print(f'sum sqrs of ages = {sum_of_squares:.2f}')\n",
    "print(f'variance of ages = {variance:.2f}')\n",
    "print(f' std dev of ages = {stdev:.2f}')"
   ]
  },
  {
   "cell_type": "markdown",
   "metadata": {},
   "source": [
    "## Ages in each passenger class"
   ]
  },
  {
   "cell_type": "code",
   "execution_count": 11,
   "metadata": {},
   "outputs": [],
   "source": [
    "def ages_in_class(klass):\n",
    "    \"\"\" \n",
    "    Return the list of ages of passengers in a given class.\n",
    "    @param klass the given class.\n",
    "    @return the list of ages.\n",
    "    \"\"\"\n",
    "    \n",
    "    return [age for age, kls in zip(titanic.age, titanic.passengerClass) \n",
    "                         if not math.isnan(age) and (kls == klass)]"
   ]
  },
  {
   "cell_type": "code",
   "execution_count": 12,
   "metadata": {},
   "outputs": [
    {
     "name": "stdout",
     "output_type": "stream",
     "text": [
      "Found 284 ages in 1st class\n",
      "Found 261 ages in 2nd class\n",
      "Found 501 ages in 3rd class\n",
      "\n",
      "1046 total ages found\n"
     ]
    }
   ],
   "source": [
    "ages_1st_class = ages_in_class('1st')\n",
    "ages_2nd_class = ages_in_class('2nd')\n",
    "ages_3rd_class = ages_in_class('3rd')\n",
    "\n",
    "print(f'Found {len(ages_1st_class)} ages in 1st class')\n",
    "print(f'Found {len(ages_2nd_class)} ages in 2nd class')\n",
    "print(f'Found {len(ages_3rd_class)} ages in 3rd class')\n",
    "\n",
    "total_ages = len(ages_1st_class) + len(ages_2nd_class) + len(ages_3rd_class)\n",
    "\n",
    "print()\n",
    "print(f'{total_ages} total ages found')"
   ]
  },
  {
   "cell_type": "markdown",
   "metadata": {},
   "source": [
    "## Survival rate of each passenger class"
   ]
  },
  {
   "cell_type": "code",
   "execution_count": 13,
   "metadata": {},
   "outputs": [],
   "source": [
    "def status_in_class(klass, status):\n",
    "    \"\"\"\n",
    "    Compute the number of passengers in a given passenger class\n",
    "    and how many of them survived or perished.\n",
    "    @param klass the given class.\n",
    "    @param status either 'yes' for survived, or 'no' if perished\n",
    "    @return a tuple containing the number of passengers \n",
    "            and the number who survived or perished\n",
    "    \"\"\"\n",
    "    \n",
    "    class_count  = 0\n",
    "    status_count = 0\n",
    "    \n",
    "    for srv, kls in zip(titanic.survived, titanic.passengerClass):\n",
    "        if kls == klass:  # the class that we want?\n",
    "            class_count += 1\n",
    "            \n",
    "            if srv == status:  # survived or perished in that class?\n",
    "                status_count += 1\n",
    "                \n",
    "    return (class_count, status_count)"
   ]
  },
  {
   "cell_type": "code",
   "execution_count": 14,
   "metadata": {},
   "outputs": [
    {
     "name": "stdout",
     "output_type": "stream",
     "text": [
      "Out of 1309 total passengers, 500 survived = 38% and 809 perished = 61%\n",
      "\n",
      "Out of 323 passengers in 1st class, 200 survived = 40%\n",
      "Out of 277 passengers in 2nd class, 119 survived = 23%\n",
      "Out of 709 passengers in 3rd class, 181 survived = 36%\n"
     ]
    }
   ],
   "source": [
    "count_1st, survived_1st = status_in_class('1st', 'yes')\n",
    "count_2nd, survived_2nd = status_in_class('2nd', 'yes')\n",
    "count_3rd, survived_3rd = status_in_class('3rd', 'yes')\n",
    "\n",
    "# We already have the counts in each class.\n",
    "count, perished_1st = status_in_class('1st', 'no')\n",
    "count, perished_2nd = status_in_class('2nd', 'no')\n",
    "count, perished_3rd = status_in_class('3rd', 'no')\n",
    "\n",
    "total_passengers = len(titanic.survived)\n",
    "total_survived   = survived_1st + survived_2nd + survived_3rd\n",
    "total_perished   = perished_1st + perished_2nd + perished_3rd\n",
    "\n",
    "print(f'Out of {total_passengers} total passengers, ' +\n",
    "      f'{total_survived} survived = {int(100*total_survived/total_passengers)}% ' +\n",
    "      f'and {total_perished} perished = {int(100*total_perished/total_passengers)}%')\n",
    "print()\n",
    "\n",
    "print(f'Out of {count_1st} passengers in 1st class, ' +\n",
    "      f'{survived_1st} survived = {int(100*survived_1st/total_survived)}%')\n",
    "print(f'Out of {count_2nd} passengers in 2nd class, ' +\n",
    "      f'{survived_2nd} survived = {int(100*survived_2nd/total_survived)}%')\n",
    "print(f'Out of {count_3rd} passengers in 3rd class, ' +\n",
    "      f'{survived_3rd} survived = {int(100*survived_3rd/total_survived)}%')"
   ]
  },
  {
   "cell_type": "code",
   "execution_count": 15,
   "metadata": {},
   "outputs": [
    {
     "data": {
      "text/plain": [
       "count     1309\n",
       "unique       2\n",
       "top       True\n",
       "freq       809\n",
       "Name: survived, dtype: object"
      ]
     },
     "execution_count": 15,
     "metadata": {},
     "output_type": "execute_result"
    }
   ],
   "source": [
    "(titanic.survived == 'no').describe()"
   ]
  },
  {
   "cell_type": "markdown",
   "metadata": {},
   "source": [
    "## Charts: Passengers in each class"
   ]
  },
  {
   "cell_type": "markdown",
   "metadata": {},
   "source": [
    "#### Custom pie chart code"
   ]
  },
  {
   "cell_type": "code",
   "execution_count": 16,
   "metadata": {},
   "outputs": [
    {
     "name": "stdout",
     "output_type": "stream",
     "text": [
      "Count of passengers in each class\n"
     ]
    },
    {
     "data": {
      "image/png": "[encoded data removed]",
      "text/plain": [
       "<Figure size 1440x720 with 1 Axes>"
      ]
     },
     "metadata": {},
     "output_type": "display_data"
    }
   ],
   "source": [
    "import pandas as pd\n",
    "import matplotlib.pyplot as plt\n",
    "\n",
    "print('Count of passengers in each class')\n",
    "\n",
    "df_count_pie = pd.DataFrame({'Class' : ['1st', '2nd', '3rd'], \n",
    "                             'Counts' : [count_1st, count_2nd, count_3rd]})\n",
    "df_count_pie.Counts.groupby(df_count_pie.Class).sum().plot(kind='pie')\n",
    "plt.axis('equal')\n",
    "plt.show()"
   ]
  },
  {
   "cell_type": "markdown",
   "metadata": {},
   "source": [
    "#### Pie chart function"
   ]
  },
  {
   "cell_type": "code",
   "execution_count": 17,
   "metadata": {},
   "outputs": [],
   "source": [
    "def show_pie_chart(title, wedge_labels, wedge_values):\n",
    "    \"\"\"\n",
    "    Display a pie chart.\n",
    "    @param title the chart title.\n",
    "    @param wedge_labels the labels for the wedges\n",
    "    @param wedge_values the values for the wedges\n",
    "    \"\"\"\n",
    "    \n",
    "    print(title)\n",
    "    \n",
    "    df_count_pie = pd.DataFrame({'Class' : wedge_labels, \n",
    "                                 'Counts' : wedge_values})\n",
    "    df_count_pie.Counts.groupby(df_count_pie.Class).sum().plot(kind='pie')\n",
    "    plt.axis('equal')\n",
    "    plt.show()"
   ]
  },
  {
   "cell_type": "code",
   "execution_count": 18,
   "metadata": {},
   "outputs": [
    {
     "name": "stdout",
     "output_type": "stream",
     "text": [
      "Count of passengers in each class\n"
     ]
    },
    {
     "data": {
      "image/png": "[encoded data removed]",
      "text/plain": [
       "<Figure size 1440x720 with 1 Axes>"
      ]
     },
     "metadata": {},
     "output_type": "display_data"
    }
   ],
   "source": [
    "classes = ['1st', '2nd', '3rd']\n",
    "counts  = [count_1st, count_2nd, count_3rd]\n",
    "\n",
    "show_pie_chart('Count of passengers in each class', classes, counts)"
   ]
  },
  {
   "cell_type": "markdown",
   "metadata": {},
   "source": [
    "#### Custom bar chart code"
   ]
  },
  {
   "cell_type": "code",
   "execution_count": 19,
   "metadata": {},
   "outputs": [
    {
     "data": {
      "image/png": "[encoded data removed]",
      "text/plain": [
       "<Figure size 1440x720 with 1 Axes>"
      ]
     },
     "metadata": {},
     "output_type": "display_data"
    }
   ],
   "source": [
    "import seaborn as sns\n",
    "\n",
    "classes = ['1st', '2nd', '3rd']\n",
    "counts  = [count_1st, count_2nd, count_3rd]\n",
    "\n",
    "sns.set_style('whitegrid')  # white backround with gray grid lines\n",
    "axes = sns.barplot(classes, counts, palette='bright')\n",
    "axes.set_title('Count of passengers in each class')\n",
    "axes.set(xlabel='Passenger Class', ylabel='Count')\n",
    "\n",
    "# Scale the y-axis by 10% to make room for text above the bars.\n",
    "axes.set_ylim(top=1.10*max(counts))\n",
    "\n",
    "# Display the count above each patch (bar).\n",
    "for bar, count in zip(axes.patches, counts):\n",
    "    text_x = bar.get_x() + bar.get_width()/2  \n",
    "    text_y = bar.get_height() \n",
    "    text   = f'{count}'\n",
    "    axes.text(text_x, text_y, text, \n",
    "              fontsize=11, ha='center', va='bottom')\n",
    "\n",
    "plt.show()  # display the chart "
   ]
  },
  {
   "cell_type": "markdown",
   "metadata": {},
   "source": [
    "#### Bar chart function"
   ]
  },
  {
   "cell_type": "code",
   "execution_count": 20,
   "metadata": {},
   "outputs": [],
   "source": [
    "import seaborn as sns\n",
    "\n",
    "def show_bar_chart(title, x_labels, y_label, x_values, y_values, bar_topper):\n",
    "    \"\"\"\n",
    "    Display a bar chart.\n",
    "    @param title the chart title.\n",
    "    @param x_labels the labels for the x axis\n",
    "    @param y_label  the label for the y axis\n",
    "    @param x_values the x values to plot\n",
    "    @param y_values the y values to plot\n",
    "    @param bar_text the text above each bar\n",
    "    \"\"\"\n",
    "    \n",
    "    sns.set_style('whitegrid')  # white backround with gray grid lines\n",
    "    axes = sns.barplot(x_values, y_values, palette='bright')\n",
    "    axes.set_title(title)\n",
    "    axes.set(xlabel=x_labels, ylabel=y_label)\n",
    "\n",
    "    # Scale the y-axis by 10% to make room for text above the bars.\n",
    "    axes.set_ylim(top=1.10*max(y_values))\n",
    "\n",
    "    # Display the percentage above each patch (bar).\n",
    "    for bar, topper in zip(axes.patches, bar_topper):\n",
    "        text_x = bar.get_x() + bar.get_width() / 2.0  \n",
    "        text_y = bar.get_height() \n",
    "        axes.text(text_x, text_y, topper, \n",
    "                  fontsize=11, ha='center', va='bottom')\n",
    "\n",
    "    plt.show()  # display the chart "
   ]
  },
  {
   "cell_type": "code",
   "execution_count": 21,
   "metadata": {},
   "outputs": [
    {
     "data": {
      "image/png": "[encoded data removed]",
      "text/plain": [
       "<Figure size 1440x720 with 1 Axes>"
      ]
     },
     "metadata": {},
     "output_type": "display_data"
    }
   ],
   "source": [
    "classes = ['1st', '2nd', '3rd']\n",
    "counts  = [count_1st, count_2nd, count_3rd]\n",
    "toppers = [f'{count_1st}', f'{count_2nd}', f'{count_3rd}']\n",
    "\n",
    "show_bar_chart('Count of passengers in each class', \n",
    "               'Passenger Class', 'Count', \n",
    "               classes, counts, toppers)"
   ]
  },
  {
   "cell_type": "code",
   "execution_count": 22,
   "metadata": {},
   "outputs": [
    {
     "data": {
      "image/png": "[encoded data removed]",
      "text/plain": [
       "<Figure size 1440x720 with 1 Axes>"
      ]
     },
     "metadata": {},
     "output_type": "display_data"
    }
   ],
   "source": [
    "total_passengers = len(titanic.name)\n",
    "pct_total_1st    = 100*count_1st/total_passengers\n",
    "pct_total_2nd    = 100*count_2nd/total_passengers\n",
    "pct_total_3rd    = 100*count_3rd/total_passengers\n",
    "\n",
    "classes  = ['1st', '2nd', '3rd']\n",
    "pcts     = [int(pct_total_1st), int(pct_total_2nd), int(pct_total_3rd)]\n",
    "toppers  = [f'{pcts[0]}%', f'{pcts[1]}%', f'{pcts[2]}%']\n",
    "\n",
    "show_bar_chart('Percentage of passengers in each class',\n",
    "               'Passenger Class', 'Percentage', \n",
    "               classes, pcts, toppers)"
   ]
  },
  {
   "cell_type": "markdown",
   "metadata": {},
   "source": [
    "## Charts: Survival rates in each passenger class"
   ]
  },
  {
   "cell_type": "code",
   "execution_count": 23,
   "metadata": {},
   "outputs": [
    {
     "name": "stdout",
     "output_type": "stream",
     "text": [
      "Count of survivors in each class\n"
     ]
    },
    {
     "data": {
      "image/png": "[encoded data removed]",
      "text/plain": [
       "<Figure size 1440x720 with 1 Axes>"
      ]
     },
     "metadata": {},
     "output_type": "display_data"
    }
   ],
   "source": [
    "classes = ['1st', '2nd', '3rd']\n",
    "counts  = [survived_1st, survived_2nd, survived_3rd]\n",
    "\n",
    "show_pie_chart('Count of survivors in each class', classes, counts)"
   ]
  },
  {
   "cell_type": "code",
   "execution_count": 24,
   "metadata": {},
   "outputs": [
    {
     "data": {
      "image/png": "[encoded data removed]",
      "text/plain": [
       "<Figure size 1440x720 with 1 Axes>"
      ]
     },
     "metadata": {},
     "output_type": "display_data"
    }
   ],
   "source": [
    "total_survivors  = survived_1st + survived_2nd + survived_3rd \n",
    "pct_survived_1st = 100*survived_1st/total_survivors\n",
    "pct_survived_2nd = 100*survived_2nd/total_survivors\n",
    "pct_survived_3rd = 100*survived_3rd/total_survivors\n",
    "\n",
    "classes  = ['1st', '2nd', '3rd']\n",
    "pcts     = [int(pct_survived_1st), int(pct_survived_2nd), int(pct_survived_3rd)]\n",
    "toppers  = [f'{pcts[0]}%', f'{pcts[1]}%', f'{pcts[2]}%']\n",
    "\n",
    "show_bar_chart('Percentage of survivors in each class',\n",
    "               'Passenger Class', 'Percentage', \n",
    "               classes, pcts, toppers)"
   ]
  },
  {
   "cell_type": "markdown",
   "metadata": {},
   "source": [
    "## Age quartiles and interquartile range (IQR) by passenger class"
   ]
  },
  {
   "cell_type": "code",
   "execution_count": 25,
   "metadata": {},
   "outputs": [],
   "source": [
    "import numpy as np\n",
    "\n",
    "def age_iqr_for_class(klass):\n",
    "    \"\"\"\n",
    "    Compute the count, min, max, 1st, 2nd, and 3rd quartiles, \n",
    "    and the interquartile range for ages in a given class.\n",
    "    @param klass the given class.\n",
    "    @return a tuple containing count, min, max, 1st, 2nd, and 3rd quartiles, \n",
    "            and the IQR.\n",
    "    \"\"\"\n",
    "    \n",
    "    ages    = ages_in_class(klass)\n",
    "    count   = len(ages)\n",
    "    min_age = min(ages)\n",
    "    max_age = max(ages)\n",
    "    \n",
    "    q1  = np.percentile(ages, 25)\n",
    "    q2  = np.percentile(ages, 50)\n",
    "    q3  = np.percentile(ages, 75)\n",
    "    iqr = q3 - q1\n",
    "    \n",
    "    return (count, min_age, max_age, q1, q2, q3, iqr)"
   ]
  },
  {
   "cell_type": "markdown",
   "metadata": {},
   "source": [
    "#### 1st class"
   ]
  },
  {
   "cell_type": "code",
   "execution_count": 26,
   "metadata": {},
   "outputs": [
    {
     "name": "stdout",
     "output_type": "stream",
     "text": [
      "count_1st = 284\n",
      "min_1st   = 0.92\n",
      "max_1st   = 80.0\n",
      "q1_1st    = 28.0\n",
      "q2_1st    = 39.0\n",
      "q3_1st    = 50.0\n",
      "iqr_1st   = 22.0\n"
     ]
    }
   ],
   "source": [
    "count_1st, min_1st, max_1st, q1_1st, q2_1st, q3_1st, iqr_1st = age_iqr_for_class('1st')\n",
    "\n",
    "print(f'count_1st = {count_1st}')\n",
    "print(f'min_1st   = {min_1st:.2f}')\n",
    "print(f'max_1st   = {max_1st}')\n",
    "print(f'q1_1st    = {q1_1st}')\n",
    "print(f'q2_1st    = {q2_1st}')\n",
    "print(f'q3_1st    = {q3_1st}')\n",
    "print(f'iqr_1st   = {iqr_1st}')"
   ]
  },
  {
   "cell_type": "markdown",
   "metadata": {},
   "source": [
    "#### 2nd class"
   ]
  },
  {
   "cell_type": "code",
   "execution_count": 27,
   "metadata": {},
   "outputs": [
    {
     "name": "stdout",
     "output_type": "stream",
     "text": [
      "count_2nd = 261\n",
      "min_2nd   = 0.67\n",
      "max_2nd   = 70.0\n",
      "q1_2nd    = 22.0\n",
      "q2_2nd    = 29.0\n",
      "q3_2nd    = 36.0\n",
      "iqr_2nd   = 14.0\n"
     ]
    }
   ],
   "source": [
    "count_2nd, min_2nd, max_2nd, q1_2nd, q2_2nd, q3_2nd, iqr_2nd = age_iqr_for_class('2nd')\n",
    "\n",
    "print(f'count_2nd = {count_2nd}')\n",
    "print(f'min_2nd   = {min_2nd:.2f}')\n",
    "print(f'max_2nd   = {max_2nd}')\n",
    "print(f'q1_2nd    = {q1_2nd}')\n",
    "print(f'q2_2nd    = {q2_2nd}')\n",
    "print(f'q3_2nd    = {q3_2nd}')\n",
    "print(f'iqr_2nd   = {iqr_2nd}')"
   ]
  },
  {
   "cell_type": "markdown",
   "metadata": {},
   "source": [
    "#### 3rd class"
   ]
  },
  {
   "cell_type": "code",
   "execution_count": 28,
   "metadata": {},
   "outputs": [
    {
     "name": "stdout",
     "output_type": "stream",
     "text": [
      "count_3rd = 501\n",
      "min_3rd   = 0.17\n",
      "max_3rd   = 74.0\n",
      "q1_3rd    = 18.0\n",
      "q2_3rd    = 24.0\n",
      "q3_3rd    = 32.0\n",
      "iqr_3rd   = 14.0\n"
     ]
    }
   ],
   "source": [
    "count_3rd, min_3rd, max_3rd, q1_3rd, q2_3rd, q3_3rd, iqr_3rd = age_iqr_for_class('3rd')\n",
    "\n",
    "print(f'count_3rd = {count_3rd}')\n",
    "print(f'min_3rd   = {min_3rd:.2f}')\n",
    "print(f'max_3rd   = {max_3rd}')\n",
    "print(f'q1_3rd    = {q1_3rd}')\n",
    "print(f'q2_3rd    = {q2_3rd}')\n",
    "print(f'q3_3rd    = {q3_3rd}')\n",
    "print(f'iqr_3rd   = {iqr_3rd}')"
   ]
  },
  {
   "cell_type": "markdown",
   "metadata": {},
   "source": [
    "## Box chart of age ranges within each passenger class"
   ]
  },
  {
   "cell_type": "code",
   "execution_count": 29,
   "metadata": {},
   "outputs": [
    {
     "name": "stdout",
     "output_type": "stream",
     "text": [
      "Box chart of age ranges by class\n"
     ]
    },
    {
     "data": {
      "image/png": "[encoded data removed]",
      "text/plain": [
       "<Figure size 1440x720 with 1 Axes>"
      ]
     },
     "metadata": {},
     "output_type": "display_data"
    }
   ],
   "source": [
    "import seaborn as sns\n",
    "\n",
    "print('Box chart of age ranges by class')\n",
    "boxplot = sns.boxplot(y='age', x='passengerClass', data=titanic)"
   ]
  },
  {
   "cell_type": "markdown",
   "metadata": {},
   "source": [
    "## Insightful conclusions? What decisions to make?"
   ]
  },
  {
   "cell_type": "markdown",
   "metadata": {},
   "source": [
    "#### Further analyses: survival rates by age and by gender -- in each passenger class."
   ]
  },
  {
   "cell_type": "code",
   "execution_count": null,
   "metadata": {},
   "outputs": [],
   "source": []
  }
 ],
 "metadata": {
  "kernelspec": {
   "display_name": "Python 3",
   "language": "python",
   "name": "python3"
  },
  "language_info": {
   "codemirror_mode": {
    "name": "ipython",
    "version": 3
   },
   "file_extension": ".py",
   "mimetype": "text/x-python",
   "name": "python",
   "nbconvert_exporter": "python",
   "pygments_lexer": "ipython3",
   "version": "3.7.6"
  }
 },
 "nbformat": 4,
 "nbformat_minor": 4
}
