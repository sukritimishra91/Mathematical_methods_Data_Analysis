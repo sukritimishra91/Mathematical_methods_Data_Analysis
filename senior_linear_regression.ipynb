{
 "cells": [
  {
   "cell_type": "markdown",
   "metadata": {},
   "source": [
    "# <center><font color='blue'>Homework Assignment Class 4</font></center>\n",
    "# <center><font color='blue'> Part 2: Linear Regression</font></center>"
   ]
  },
  {
   "cell_type": "markdown",
   "metadata": {},
   "source": [
    "In this assignment, you are asked to perform two regression analyses, the first a simple linear regression (one independent variable) and the other a multiple linear regression (3 independent variables). The pickled data (Advertising) which you encountered in Class 2 is contained in the folder 'data/Advertising.pkl' . The dependent (target) variable is **Sales** (in units of product) and the independent variables are budgets for **TV**, **Radio** and **Newspaper**. The objective of this assignment is to build linear models that assess the impact of these budgets on sales.  \n",
    "  \n",
    "In the  simple linear regression you are asked to find a linear predictive relationship between the TV budget and sales. You are asked to do a training/test split with 75% of the data for training, and the remainder for testing.\n",
    "\n",
    "In the multiple linear regression, you are asked to model the linear predictive relationship of the three budgets - TV, Radio and Newspaper - on Sales. In order to keep things simple, you are not asked to do a training/test split of the sample.\n",
    "\n",
    "For both regressions, use the *LinearRegression* model from *sklearn*.\n",
    "</font>"
   ]
  },
  {
   "cell_type": "code",
   "execution_count": 55,
   "metadata": {},
   "outputs": [
    {
     "data": {
      "text/html": [
       "<div>\n",
       "<style scoped>\n",
       "    .dataframe tbody tr th:only-of-type {\n",
       "        vertical-align: middle;\n",
       "    }\n",
       "\n",
       "    .dataframe tbody tr th {\n",
       "        vertical-align: top;\n",
       "    }\n",
       "\n",
       "    .dataframe thead th {\n",
       "        text-align: right;\n",
       "    }\n",
       "</style>\n",
       "<table border=\"1\" class=\"dataframe\">\n",
       "  <thead>\n",
       "    <tr style=\"text-align: right;\">\n",
       "      <th></th>\n",
       "      <th>TV</th>\n",
       "      <th>Radio</th>\n",
       "      <th>Newspaper</th>\n",
       "      <th>Sales</th>\n",
       "    </tr>\n",
       "  </thead>\n",
       "  <tbody>\n",
       "    <tr>\n",
       "      <th>0</th>\n",
       "      <td>230.1</td>\n",
       "      <td>37.8</td>\n",
       "      <td>69.2</td>\n",
       "      <td>22.1</td>\n",
       "    </tr>\n",
       "    <tr>\n",
       "      <th>1</th>\n",
       "      <td>44.5</td>\n",
       "      <td>39.3</td>\n",
       "      <td>45.1</td>\n",
       "      <td>10.4</td>\n",
       "    </tr>\n",
       "    <tr>\n",
       "      <th>2</th>\n",
       "      <td>17.2</td>\n",
       "      <td>45.9</td>\n",
       "      <td>69.3</td>\n",
       "      <td>9.3</td>\n",
       "    </tr>\n",
       "    <tr>\n",
       "      <th>3</th>\n",
       "      <td>151.5</td>\n",
       "      <td>41.3</td>\n",
       "      <td>58.5</td>\n",
       "      <td>18.5</td>\n",
       "    </tr>\n",
       "    <tr>\n",
       "      <th>4</th>\n",
       "      <td>180.8</td>\n",
       "      <td>10.8</td>\n",
       "      <td>58.4</td>\n",
       "      <td>12.9</td>\n",
       "    </tr>\n",
       "  </tbody>\n",
       "</table>\n",
       "</div>"
      ],
      "text/plain": [
       "      TV  Radio  Newspaper  Sales\n",
       "0  230.1   37.8       69.2   22.1\n",
       "1   44.5   39.3       45.1   10.4\n",
       "2   17.2   45.9       69.3    9.3\n",
       "3  151.5   41.3       58.5   18.5\n",
       "4  180.8   10.8       58.4   12.9"
      ]
     },
     "execution_count": 55,
     "metadata": {},
     "output_type": "execute_result"
    }
   ],
   "source": [
    "# Read the data - done for you\n",
    "import numpy as np\n",
    "import pandas as pd\n",
    "from sklearn import datasets, linear_model\n",
    "import sklearn\n",
    "import matplotlib.pyplot as plt\n",
    "import seaborn as sns\n",
    "%matplotlib inline\n",
    "advertising = pd.read_pickle(\"Advertising.pkl\")\n",
    "advertising.head()"
   ]
  },
  {
   "cell_type": "code",
   "execution_count": 56,
   "metadata": {},
   "outputs": [],
   "source": [
    "# (3 pts) In this cell, fit a linear regression of Sales on TV by \n",
    "# (1) creating # an sklearn LinearRegression object, \n",
    "# (2) creating an X DataFrame which drops 'Sales', \n",
    "# (3) then with y as sales and only the 'TV' column from X, \n",
    "#     perform a 75%/25% training/test split, and \n",
    "# (4) fit the LinearRegression object."
   ]
  },
  {
   "cell_type": "code",
   "execution_count": 57,
   "metadata": {},
   "outputs": [
    {
     "data": {
      "text/plain": [
       "LinearRegression(copy_X=True, fit_intercept=True, n_jobs=1, normalize=False)"
      ]
     },
     "execution_count": 57,
     "metadata": {},
     "output_type": "execute_result"
    }
   ],
   "source": [
    "regr = linear_model.LinearRegression()\n",
    "regr\n",
    "from sklearn.model_selection import train_test_split\n",
    "x=advertising.drop('Sales',axis=1)\n",
    "y=advertising.Sales\n",
    "# Split the data into training/testing sets\n",
    "\n",
    "X_train,X_test,y_train,y_test=train_test_split(x[['TV']],y,test_size=0.25)\n",
    "regr.fit(X_train, y_train)\n"
   ]
  },
  {
   "cell_type": "code",
   "execution_count": 72,
   "metadata": {},
   "outputs": [],
   "source": [
    "# (1 pt)\n",
    "# Using the fitted LinearRegression object in this cell, \n",
    "# (1) Predict y values for the test set, and\n",
    "# (2) Display the (i) intercept, (ii) slope, (iii) mean squared \n",
    "#     error (MSE), and (iv) R2 (R squared).\n"
   ]
  },
  {
   "cell_type": "code",
   "execution_count": 73,
   "metadata": {},
   "outputs": [
    {
     "name": "stdout",
     "output_type": "stream",
     "text": [
      "Intercept: \n",
      " [7.03259355]\n",
      "Coefficients: \n",
      " [[0.04753664]]\n",
      "Mean squared error: 11.15\n",
      "Variance score: 0.60\n"
     ]
    }
   ],
   "source": [
    "y_pred = regr.predict(X_test)\n",
    "# Intercept\n",
    "print('Intercept: \\n', regr.intercept_)\n",
    "#Slope\n",
    "print('Coefficients: \\n', regr.coef_)\n",
    "# The mean squared error\n",
    "print(\"Mean squared error: %.2f\"\n",
    "      % sklearn.metrics.mean_squared_error(y_test, y_pred))\n",
    "# Explained variance score: 1 is perfect prediction\n",
    "print('Variance score: %.2f' % sklearn.metrics.r2_score(y_test,y_pred))"
   ]
  },
  {
   "cell_type": "code",
   "execution_count": 74,
   "metadata": {},
   "outputs": [],
   "source": [
    "# (1 pt)\n",
    "# Produce a training/test scattergram with the regression \n",
    "# line."
   ]
  },
  {
   "cell_type": "code",
   "execution_count": 75,
   "metadata": {},
   "outputs": [
    {
     "data": {
      "image/png": "[encoded data removed]",
      "text/plain": [
       "<Figure size 720x480 with 1 Axes>"
      ]
     },
     "metadata": {},
     "output_type": "display_data"
    }
   ],
   "source": [
    "from matplotlib.pyplot import figure\n",
    "figure(num=None, figsize=(9, 6), dpi=80, facecolor='w', edgecolor='k')\n",
    "plt.scatter(X_train, y_train,  color='lightblue')\n",
    "plt.scatter(X_test, y_test,  color='green')\n",
    "plt.plot(X_test, y_pred, color='red', linewidth=3)\n",
    "\n",
    "plt.xticks(())\n",
    "plt.yticks(())\n",
    "\n",
    "plt.show()"
   ]
  },
  {
   "cell_type": "code",
   "execution_count": 62,
   "metadata": {},
   "outputs": [],
   "source": [
    "# (2 pts) In this cell, create an sklearn LinearRegression object   \n",
    "# and fit it with y = sales and X (from the 'drop' command). Do not  \n",
    "# do a train/test split. "
   ]
  },
  {
   "cell_type": "code",
   "execution_count": 78,
   "metadata": {},
   "outputs": [
    {
     "data": {
      "text/plain": [
       "LinearRegression(copy_X=True, fit_intercept=True, n_jobs=1, normalize=False)"
      ]
     },
     "execution_count": 78,
     "metadata": {},
     "output_type": "execute_result"
    }
   ],
   "source": [
    "from sklearn.linear_model import LinearRegression\n",
    "regr = LinearRegression()\n",
    "#x =advertising[['TV']]\n",
    "regr.fit(x,advertising.Sales)"
   ]
  },
  {
   "cell_type": "raw",
   "metadata": {},
   "source": [
    "\n",
    "y_fitted"
   ]
  },
  {
   "cell_type": "code",
   "execution_count": 79,
   "metadata": {},
   "outputs": [
    {
     "data": {
      "image/png": "[encoded data removed]",
      "text/plain": [
       "<Figure size 720x480 with 1 Axes>"
      ]
     },
     "metadata": {},
     "output_type": "display_data"
    }
   ],
   "source": [
    "figure(num=None, figsize=(9, 6), dpi=80, facecolor='w', edgecolor='k')\n",
    "plt.scatter(regr.predict(X_train),((y_train)-regr.predict(X_train)), c='b', s=5, alpha=0.5)\n",
    "#plt.scatter(lm2.predict(X_test), lm2.predict(X_test) - Y_test, c='g', s=5, alpha=0.5)\n",
    "plt.hlines(y=0,xmin=0, xmax=30)\n",
    "plt.xlabel('Expected Y value')\n",
    "plt.ylabel('Residuals')\n",
    "plt.title('Residual Plot using training (blue) and test (green) data')\n",
    "plt.show()"
   ]
  },
  {
   "cell_type": "code",
   "execution_count": 80,
   "metadata": {},
   "outputs": [],
   "source": [
    "# (1 pt) Produce a $\\hat{Y}$ vs $Y$ (y asis 'predicted', x \n",
    "# axis = 'actual')"
   ]
  },
  {
   "cell_type": "code",
   "execution_count": 81,
   "metadata": {},
   "outputs": [
    {
     "data": {
      "image/png": "[encoded data removed]",
      "text/plain": [
       "<Figure size 432x288 with 1 Axes>"
      ]
     },
     "metadata": {},
     "output_type": "display_data"
    }
   ],
   "source": [
    "plt.scatter(advertising.Sales, regr.predict(),s=15)\n",
    "plt.xlabel('Sales: $Y_i$')\n",
    "plt.ylabel('Predicted Sales: $\\hat{Y}_i$')\n",
    "plt.title('Sales vs Predicted sales: $Y_i$ vs $\\hat{Y}_i$')\n",
    "plt.show()"
   ]
  },
  {
   "cell_type": "code",
   "execution_count": 70,
   "metadata": {},
   "outputs": [],
   "source": [
    "# (1 pt) Display (a) intercept, (b) coefficients, (c) MSE, \n",
    "# and (d) R2."
   ]
  },
  {
   "cell_type": "code",
   "execution_count": 71,
   "metadata": {},
   "outputs": [
    {
     "name": "stdout",
     "output_type": "stream",
     "text": [
      "Intercept: \n",
      " [7.03259355]\n",
      "Coefficients: \n",
      " [[0.04753664]]\n",
      "             TV     Sales\n",
      "TV     1.000000  0.782224\n",
      "Sales  0.782224  1.000000\n",
      "Mean squared error: 24347.712147084345\n",
      "Variance score: 0.61\n"
     ]
    }
   ],
   "source": [
    "# Intercept\n",
    "print('Intercept: \\n', regr.intercept_)\n",
    "# Slope\n",
    "print('Coefficients: \\n', regr.coef_)\n",
    "print(advertising[['TV','Sales']].corr())\n",
    "# The mean squared error\n",
    "print('Mean squared error:',sklearn.metrics.mean_squared_error(X, y_fitted))\n",
    "# Explained variance score: 1 is perfect prediction\n",
    "print('Variance score: %.2f' % sklearn.metrics.r2_score(y,y_fitted))\n"
   ]
  },
  {
   "cell_type": "code",
   "execution_count": null,
   "metadata": {},
   "outputs": [],
   "source": []
  }
 ],
 "metadata": {
  "kernelspec": {
   "display_name": "Python 3",
   "language": "python",
   "name": "python3"
  },
  "language_info": {
   "codemirror_mode": {
    "name": "ipython",
    "version": 3
   },
   "file_extension": ".py",
   "mimetype": "text/x-python",
   "name": "python",
   "nbconvert_exporter": "python",
   "pygments_lexer": "ipython3",
   "version": "3.7.6"
  }
 },
 "nbformat": 4,
 "nbformat_minor": 4
}
