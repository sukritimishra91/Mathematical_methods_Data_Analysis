{
 "cells": [
  {
   "cell_type": "markdown",
   "metadata": {},
   "source": [
    "### <center>San Jose State University<br>Department of Applied Data Science</center>\n",
    "#  <center>DATA 220<br>Mathematical Methods for Data Analysis</center>\n",
    "### <center>Fall 2019<br>Instructor: Ron Mak</center>\n",
    "#  <center>Assignment 7<br>Probability Problem Set</center>\n",
    "#### <center>100 points total (10 points each)<br><br>Work together with your lab partner.<br>Write your solutions in the indicated cells. You can use more cells if you need to.<br>You can compute by hand, but try use Python code and Python functions.<br>You can add your own functions or other support code.</center>\n",
    "#### <center>Due October 28, 2019</center>"
   ]
  },
  {
   "cell_type": "markdown",
   "metadata": {},
   "source": [
    "#### <strong>PROBLEM 1.</strong> You stand on a street corner and record the gender of the first ten people who pass by. If the city is half male and half female, what is the probability that you will record all females?"
   ]
  },
  {
   "cell_type": "code",
   "execution_count": 2,
   "metadata": {},
   "outputs": [
    {
     "name": "stdout",
     "output_type": "stream",
     "text": [
      "0.0\n"
     ]
    }
   ],
   "source": [
    "##### Solution to Problem 1 #####\n",
    "import scipy.stats as stats\n",
    "import scipy.stats as stats\n",
    "\n",
    "gender_record = 10\n",
    "p_male = 0.5\n",
    "p_female = 0.5\n",
    "p_success_female = 0.5\n",
    "p = stats.binom.pmf( gender_record, p_female, p_success_female)\n",
    "\n",
    "print(p)"
   ]
  },
  {
   "cell_type": "markdown",
   "metadata": {},
   "source": [
    "#### <strong>PROBLEM 2.</strong> In the previous problem, what is the probability that you will record between four and six females, inclusive?"
   ]
  },
  {
   "cell_type": "code",
   "execution_count": 2,
   "metadata": {},
   "outputs": [],
   "source": [
    "##### Solution to Problem 2 #####"
   ]
  },
  {
   "cell_type": "markdown",
   "metadata": {},
   "source": [
    "#### <strong>PROBLEM 3.</strong> What is the probability that a randomly selected leap year contains 53 Sundays?"
   ]
  },
  {
   "cell_type": "code",
   "execution_count": 3,
   "metadata": {},
   "outputs": [],
   "source": [
    "##### Solution to Problem 3 #####\n",
    "Our sample space is S : {Monday-Tuesday, Tuesday-Wednesday, Wednesday-Thursday Thursday-Friday, Saturday-Sunday,Sunday-Monday}\n",
    "Number of elements in S = n(S) = 7\n",
    "Say, set A comprises of the elements Saturday-Sunday and Sunday-Monday i.e. A : {Saturday-Sunday, Sunday-Monday}\n",
    "Number of elements in set A = n(A) = 2\n",
    "By definition, probability of occurrence of A = n(A)/n(S) = 2/7\n",
    "\n",
    "Therefore, probability that a leap year has 53 Sundays is 2/7. "
   ]
  },
  {
   "cell_type": "markdown",
   "metadata": {},
   "source": [
    "#### <strong>PROBLEM 4.</strong> Customers enter a store at an average rate of two per minute. What is the probability that at least one customer enters the store during a given minute?"
   ]
  },
  {
   "cell_type": "code",
   "execution_count": 4,
   "metadata": {},
   "outputs": [],
   "source": [
    "##### Solution to Problem 4 #####\n",
    "This is a Poisson distribution problem.\n",
    "\n",
    "The average rate of customers enter per minute is 2.\n",
    "We want to know the probability of customer atleast 1 in a minute.\n",
    "Therefore, we must use the Poisson probability mass function (pmf)."
   ]
  },
  {
   "cell_type": "code",
   "execution_count": 7,
   "metadata": {},
   "outputs": [
    {
     "name": "stdout",
     "output_type": "stream",
     "text": [
      "The average rate of customers enter per minute = 2\n",
      "The probability of entering 1 customer per minute = 0.2707\n"
     ]
    }
   ],
   "source": [
    "##### Solution to Problem 4 #####\n",
    "import scipy.stats as stats\n",
    "\n",
    "average_rate_customers_enter = 2\n",
    "customer_enter = 1\n",
    "\n",
    "p = stats.poisson.pmf(customer_enter, average_rate_customers_enter)\n",
    "\n",
    "print(f'The average rate of customers enter per minute = {average_rate_customers_enter}')\n",
    "print(f'The probability of entering {customer_enter} customer per minute = {p:.4f}')\n"
   ]
  },
  {
   "cell_type": "markdown",
   "metadata": {},
   "source": [
    "#### <strong>PROBLEM 5.</strong> Suppose the probability that you will have a child with brown hair is 1/4. If you have four children, what is the probability that exactly half of them will have brown hair?"
   ]
  },
  {
   "cell_type": "code",
   "execution_count": 5,
   "metadata": {},
   "outputs": [],
   "source": [
    "##### Solution to Problem 5 #####\n",
    " Probability of a child with brown hair P(E) = 1/4\n",
    "Probability of a child without brown hairP(F) = 3/4\n",
    "\n",
    "\n"
   ]
  },
  {
   "cell_type": "markdown",
   "metadata": {},
   "source": [
    "#### <strong>PROBLEM 6.</strong> A group of ten friends randomly sit around a circular table. Exactly two of them love each other dearly. What is the probability that they end up sitting together?"
   ]
  },
  {
   "cell_type": "code",
   "execution_count": 6,
   "metadata": {},
   "outputs": [],
   "source": [
    "##### Solution to Problem 6 #####\n",
    "the number of arrangements = (n – 1) ! in a circle\n",
    "But here, two of them sitting together = (1 couple)* others\n",
    "So, Probability = 2! * 8!"
   ]
  },
  {
   "cell_type": "markdown",
   "metadata": {},
   "source": [
    "#### <strong>PROBLEM 7.</strong> How many sums of money can you obtain by choosing two coins from a box that contains a penny, a nickel, a dime, a quarter, and a half dollar?"
   ]
  },
  {
   "cell_type": "code",
   "execution_count": 7,
   "metadata": {},
   "outputs": [],
   "source": [
    "##### Solution to Problem 7 #####"
   ]
  },
  {
   "cell_type": "markdown",
   "metadata": {},
   "source": [
    "#### <strong>PROBLEM 8.</strong> An opaque bag contains one ball that is equally likely to be white or black. You put in a white ball and shake the bag. Then you reach in and randomly remove a ball. If the removed ball is white, what is the probability that the original ball in the bag was white?"
   ]
  },
  {
   "cell_type": "code",
   "execution_count": 8,
   "metadata": {},
   "outputs": [],
   "source": [
    "##### Solution to Problem 8 #####\n"
   ]
  },
  {
   "cell_type": "markdown",
   "metadata": {},
   "source": [
    "#### <strong>PROBLEM 9.</strong> You have three empty boxes and seven balls. How many ways can you distribute the balls among the three boxes?"
   ]
  },
  {
   "cell_type": "code",
   "execution_count": 9,
   "metadata": {},
   "outputs": [],
   "source": [
    "##### Solution to Problem 9 #####"
   ]
  },
  {
   "cell_type": "markdown",
   "metadata": {},
   "source": [
    "#### <strong>PROBLEM 10.</strong> Alice, Bill, and Carol toss a fair coin but you don't see them do it. Then Alice reports to you that the coin came up heads, but Bill and Carol claim that it was tails. Alice tells the truth 4/5 of the time, Bill 3/5 of the time, and Carol 5/7 of the time. What is the probability that it was indeed heads?"
   ]
  },
  {
   "cell_type": "code",
   "execution_count": 10,
   "metadata": {},
   "outputs": [],
   "source": [
    "##### Solution to Problem 10 #####"
   ]
  }
 ],
 "metadata": {
  "kernelspec": {
   "display_name": "Python 3",
   "language": "python",
   "name": "python3"
  },
  "language_info": {
   "codemirror_mode": {
    "name": "ipython",
    "version": 3
   },
   "file_extension": ".py",
   "mimetype": "text/x-python",
   "name": "python",
   "nbconvert_exporter": "python",
   "pygments_lexer": "ipython3",
   "version": "3.7.6"
  }
 },
 "nbformat": 4,
 "nbformat_minor": 4
}
