{
 "cells": [
  {
   "cell_type": "code",
   "execution_count": null,
   "metadata": {},
   "outputs": [],
   "source": [
    "import numpy as np\n",
    "\n",
    "P = np.array([[0.70, 0.15, 0.15],\n",
    "              [0.20, 0.80, 0.15],\n",
    "              [0.10, 0.05, 0.70]])\n",
    "\n",
    "X = np.array([[0.15], \n",
    "              [0.20], \n",
    "              [0.65]])"
   ]
  },
  {
   "cell_type": "code",
   "execution_count": null,
   "metadata": {},
   "outputs": [],
   "source": [
    "%precision 4\n",
    "\n",
    "print('Initial:')\n",
    "print(X)"
   ]
  },
  {
   "cell_type": "code",
   "execution_count": null,
   "metadata": {},
   "outputs": [],
   "source": [
    "for year in range(1, 26):\n",
    "    X = P@X\n",
    "    print()\n",
    "    print(f'After year {year}:')\n",
    "    print(X)"
   ]
  },
  {
   "cell_type": "code",
   "execution_count": null,
   "metadata": {},
   "outputs": [],
   "source": [
    "A = np.array([[-0.30, 0.15, 0.15],\n",
    "              [0.20, -0.20, 0.15],\n",
    "              [0.10, 0.05, -0.30]])\n",
    "\n",
    "b = np.array([[0], [0], [0]])"
   ]
  },
  {
   "cell_type": "code",
   "execution_count": null,
   "metadata": {},
   "outputs": [],
   "source": [
    "r1 = np.array([-0.30, 0.15, 0.15])\n",
    "r2 = np.array([0.20, -0.20, 0.15])\n",
    "r3 = np.array([0.10, 0.05, -0.30])\n",
    "\n",
    "A = np.array([r1, r2, r3])\n",
    "A"
   ]
  },
  {
   "cell_type": "code",
   "execution_count": null,
   "metadata": {},
   "outputs": [],
   "source": [
    "r1 = -r1/0.30\n",
    "r1"
   ]
  },
  {
   "cell_type": "code",
   "execution_count": null,
   "metadata": {},
   "outputs": [],
   "source": [
    "r2 = r2 - 0.2*r1\n",
    "r2"
   ]
  },
  {
   "cell_type": "code",
   "execution_count": null,
   "metadata": {},
   "outputs": [],
   "source": [
    "r3 = r3 - 0.1*r1\n",
    "r3"
   ]
  },
  {
   "cell_type": "code",
   "execution_count": null,
   "metadata": {},
   "outputs": [],
   "source": [
    "r3 = r3 + r2\n",
    "r3"
   ]
  },
  {
   "cell_type": "code",
   "execution_count": null,
   "metadata": {},
   "outputs": [],
   "source": [
    "r1 = r1 - 5*r2\n",
    "r1"
   ]
  },
  {
   "cell_type": "code",
   "execution_count": null,
   "metadata": {},
   "outputs": [],
   "source": [
    "A = np.array([r1, r2, r3])\n",
    "A"
   ]
  },
  {
   "cell_type": "markdown",
   "metadata": {},
   "source": [
    "x3 = t\n",
    "x2 = 2.5t = (5/2)t\n",
    "x1 = 1.75t = (7/4)t\n",
    "\n",
    "x1 + x2 + x3 = 1 = 5.25t = (21/4)t\n",
    "t = 4/21\n",
    "\n",
    "x3 = t = 4/21\n",
    "x2 = (5/2)(4/21)=20/42 = 10/21\n",
    "x1 = (7/4)(4/21) = 7/21 = 1/3"
   ]
  },
  {
   "cell_type": "code",
   "execution_count": null,
   "metadata": {},
   "outputs": [],
   "source": [
    "X_bar = np.array([[1/3],\n",
    "                  [10/21],\n",
    "                  [4/21]])\n",
    "X_bar"
   ]
  },
  {
   "cell_type": "code",
   "execution_count": null,
   "metadata": {},
   "outputs": [],
   "source": []
  }
 ],
 "metadata": {
  "kernelspec": {
   "display_name": "Python 3",
   "language": "python",
   "name": "python3"
  },
  "language_info": {
   "codemirror_mode": {
    "name": "ipython",
    "version": 3
   },
   "file_extension": ".py",
   "mimetype": "text/x-python",
   "name": "python",
   "nbconvert_exporter": "python",
   "pygments_lexer": "ipython3",
   "version": "3.7.5"
  }
 },
 "nbformat": 4,
 "nbformat_minor": 4
}
